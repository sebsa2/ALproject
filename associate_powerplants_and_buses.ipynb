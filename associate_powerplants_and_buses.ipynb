{
 "cells": [
  {
   "cell_type": "code",
   "execution_count": 8,
   "metadata": {
    "collapsed": true
   },
   "outputs": [],
   "source": [
    "import numpy as np\n",
    "import pandas as pd\n",
    "import os\n",
    "import matplotlib.pyplot as plt\n",
    "import seaborn as sns\n",
    "\n",
    "% matplotlib inline"
   ]
  },
  {
   "cell_type": "code",
   "execution_count": 2,
   "metadata": {},
   "outputs": [
    {
     "name": "stdout",
     "output_type": "stream",
     "text": [
      "C:\\Users\\sebsa\\Documents\\Centrale Paris\\3A\\OEN\\Projet Synthese\\data\n"
     ]
    }
   ],
   "source": [
    "%cd C:\\\\Users\\\\sebsa\\\\Documents\\\\Centrale Paris\\\\3A\\\\OEN\\\\Projet Synthese\\\\data"
   ]
  },
  {
   "cell_type": "markdown",
   "metadata": {},
   "source": [
    "## Read and format data"
   ]
  },
  {
   "cell_type": "markdown",
   "metadata": {},
   "source": [
    "### Power Plants"
   ]
  },
  {
   "cell_type": "code",
   "execution_count": 3,
   "metadata": {
    "collapsed": true
   },
   "outputs": [],
   "source": [
    "all_powerplants = []\n",
    "nb_total_files = 0"
   ]
  },
  {
   "cell_type": "markdown",
   "metadata": {},
   "source": [
    "Solar real"
   ]
  },
  {
   "cell_type": "code",
   "execution_count": 4,
   "metadata": {},
   "outputs": [
    {
     "data": {
      "text/plain": [
       "['CH_solar_filtered_1.csv',\n",
       " 'DE_solar_filtered_1.csv',\n",
       " 'DK_solar_filtered_1.csv',\n",
       " 'FR_solar_filtered_1.csv',\n",
       " 'PL_solar_filtered_1.csv',\n",
       " 'randm_gen']"
      ]
     },
     "execution_count": 4,
     "metadata": {},
     "output_type": "execute_result"
    }
   ],
   "source": [
    "path = 'installed_capacity/Solar/'\n",
    "files_powerplants = os.listdir(path)\n",
    "nb_Solar_real = 0\n",
    "files_powerplants"
   ]
  },
  {
   "cell_type": "code",
   "execution_count": 5,
   "metadata": {},
   "outputs": [
    {
     "name": "stderr",
     "output_type": "stream",
     "text": [
      "C:\\Anaconda\\lib\\site-packages\\IPython\\core\\interactiveshell.py:2717: DtypeWarning: Columns (10,14,16,18,19,20) have mixed types. Specify dtype option on import or set low_memory=False.\n",
      "  interactivity=interactivity, compiler=compiler, result=result)\n",
      "C:\\Anaconda\\lib\\site-packages\\numpy\\lib\\arraysetops.py:395: FutureWarning: elementwise comparison failed; returning scalar instead, but in the future will perform elementwise comparison\n",
      "  mask |= (ar1 == a)\n"
     ]
    }
   ],
   "source": [
    "cols = ['energy_source','electrical_capacity','lat','lon']\n",
    "for name in files_powerplants[:-1]:\n",
    "    df = pd.read_csv(path+name, index_col=0)\n",
    "    out = df[cols]\n",
    "    all_powerplants.append(out)\n",
    "    nb_total_files += 1\n",
    "    nb_Solar_real += 1"
   ]
  },
  {
   "cell_type": "code",
   "execution_count": 6,
   "metadata": {
    "collapsed": true
   },
   "outputs": [],
   "source": [
    "assert(nb_total_files == len(all_powerplants))"
   ]
  },
  {
   "cell_type": "markdown",
   "metadata": {},
   "source": [
    "Solar random generation"
   ]
  },
  {
   "cell_type": "code",
   "execution_count": 7,
   "metadata": {},
   "outputs": [
    {
     "data": {
      "text/plain": [
       "['BE_N.csv',\n",
       " 'BE_S.csv',\n",
       " 'ES_center.csv',\n",
       " 'ES_N.csv',\n",
       " 'ES_S.csv',\n",
       " 'IT_center.csv',\n",
       " 'IT_NE.csv',\n",
       " 'IT_NW.csv',\n",
       " 'IT_sardegna.csv',\n",
       " 'IT_SE.csv',\n",
       " 'IT_sicilia.csv',\n",
       " 'UK_E.csv',\n",
       " 'UK_SE.csv',\n",
       " 'UK_SW.csv',\n",
       " 'UK_W.csv']"
      ]
     },
     "execution_count": 7,
     "metadata": {},
     "output_type": "execute_result"
    }
   ],
   "source": [
    "path = 'installed_capacity/Solar/randm_gen/'\n",
    "files_powerplants = os.listdir(path)\n",
    "nb_Solar_rdm = 0\n",
    "files_powerplants"
   ]
  },
  {
   "cell_type": "code",
   "execution_count": 8,
   "metadata": {
    "collapsed": true
   },
   "outputs": [],
   "source": [
    "cols = ['energy_source','electrical_capacity','lat','lon']\n",
    "for name in files_powerplants[:-1]:\n",
    "    df = pd.read_csv(path+name, index_col=0)\n",
    "    out = df[cols]\n",
    "    all_powerplants.append(out)\n",
    "    nb_total_files += 1\n",
    "    nb_Solar_rdm += 1"
   ]
  },
  {
   "cell_type": "code",
   "execution_count": 9,
   "metadata": {
    "collapsed": true
   },
   "outputs": [],
   "source": [
    "assert(nb_total_files == len(all_powerplants))"
   ]
  },
  {
   "cell_type": "markdown",
   "metadata": {},
   "source": [
    "Wind"
   ]
  },
  {
   "cell_type": "code",
   "execution_count": 10,
   "metadata": {
    "scrolled": true
   },
   "outputs": [
    {
     "data": {
      "text/plain": [
       "['database_AT.csv',\n",
       " 'database_AT_formatted.csv',\n",
       " 'database_BE.csv',\n",
       " 'database_BE_formatted.csv',\n",
       " 'database_BG.csv',\n",
       " 'database_BG_formatted.csv',\n",
       " 'database_CH.csv',\n",
       " 'database_CH_formatted.csv',\n",
       " 'database_CY.csv',\n",
       " 'database_CY_formatted.csv',\n",
       " 'database_CZ.csv',\n",
       " 'database_CZ_formatted.csv',\n",
       " 'database_DE.csv',\n",
       " 'database_DE_formatted.csv',\n",
       " 'database_DK.csv',\n",
       " 'database_DK_formatted.csv',\n",
       " 'database_EE.csv',\n",
       " 'database_EE_formatted.csv',\n",
       " 'database_FI.csv',\n",
       " 'database_FI_formatted.csv',\n",
       " 'database_FR.csv',\n",
       " 'database_FR_formatted.csv',\n",
       " 'database_GB.csv',\n",
       " 'database_GB_formatted.csv',\n",
       " 'database_GR.csv',\n",
       " 'database_GR_formatted.csv',\n",
       " 'database_HR.csv',\n",
       " 'database_HR_formatted.csv',\n",
       " 'database_HU.csv',\n",
       " 'database_HU_formatted.csv',\n",
       " 'database_IE.csv',\n",
       " 'database_IE_formatted.csv',\n",
       " 'database_IT.csv',\n",
       " 'database_IT_formatted.csv',\n",
       " 'database_LU.csv',\n",
       " 'database_LU_formatted.csv',\n",
       " 'database_LV.csv',\n",
       " 'database_LV_formatted.csv',\n",
       " 'database_MK.csv',\n",
       " 'database_MK_formatted.csv',\n",
       " 'database_NL.csv',\n",
       " 'database_NL_formatted.csv',\n",
       " 'database_NO.csv',\n",
       " 'database_NO_formatted.csv',\n",
       " 'database_PL.csv',\n",
       " 'database_PL_formatted.csv',\n",
       " 'database_PT.csv',\n",
       " 'database_PT_formatted.csv',\n",
       " 'database_RO.csv',\n",
       " 'database_RO_formatted.csv',\n",
       " 'database_SE.csv',\n",
       " 'database_SE_formatted.csv',\n",
       " 'database_SI.csv',\n",
       " 'database_SI_formatted.csv',\n",
       " 'database_SK.csv',\n",
       " 'database_SK_formatted.csv']"
      ]
     },
     "execution_count": 10,
     "metadata": {},
     "output_type": "execute_result"
    }
   ],
   "source": [
    "path = 'installed_capacity/Wind/Extraction The Wind Power/'\n",
    "files_powerplants = os.listdir(path)\n",
    "nb_Wind = 0\n",
    "files_powerplants"
   ]
  },
  {
   "cell_type": "code",
   "execution_count": 11,
   "metadata": {
    "collapsed": true
   },
   "outputs": [],
   "source": [
    "cols = ['energy_source','electrical_capacity','lat','lon']\n",
    "for name in files_powerplants[:-1]:\n",
    "    if 'formatted' in name:\n",
    "        df = pd.read_csv(path+name, index_col=0)\n",
    "        df['electrical_capacity'] = df['Total nominal power']\n",
    "        df['lat'] = df['Latitude']\n",
    "        df['lon'] = df['Longitude']\n",
    "        out = df[cols]\n",
    "        all_powerplants.append(out)\n",
    "        nb_total_files += 1\n",
    "        nb_Wind += 1"
   ]
  },
  {
   "cell_type": "code",
   "execution_count": 12,
   "metadata": {
    "collapsed": true
   },
   "outputs": [],
   "source": [
    "assert(nb_total_files == len(all_powerplants))"
   ]
  },
  {
   "cell_type": "markdown",
   "metadata": {},
   "source": [
    "Concatenate df"
   ]
  },
  {
   "cell_type": "code",
   "execution_count": 13,
   "metadata": {
    "collapsed": true
   },
   "outputs": [],
   "source": [
    "assert(nb_total_files == nb_Solar_rdm+nb_Solar_real+nb_Wind)\n",
    "assert(nb_total_files == len(all_powerplants))"
   ]
  },
  {
   "cell_type": "code",
   "execution_count": 14,
   "metadata": {
    "collapsed": true
   },
   "outputs": [],
   "source": [
    "df_all_powerplants = pd.concat(all_powerplants).reset_index().drop(['index'],axis=1)\n",
    "df_all_powerplants['number'] = np.arange(len(df_all_powerplants))\n",
    "df_all_powerplants['name'] = 'name_' + df_all_powerplants['number'].map(str)\n",
    "df_all_powerplants.drop(['number'], axis=1, inplace=True)"
   ]
  },
  {
   "cell_type": "code",
   "execution_count": 15,
   "metadata": {
    "scrolled": true
   },
   "outputs": [
    {
     "data": {
      "text/html": [
       "<div>\n",
       "<style>\n",
       "    .dataframe thead tr:only-child th {\n",
       "        text-align: right;\n",
       "    }\n",
       "\n",
       "    .dataframe thead th {\n",
       "        text-align: left;\n",
       "    }\n",
       "\n",
       "    .dataframe tbody tr th {\n",
       "        vertical-align: top;\n",
       "    }\n",
       "</style>\n",
       "<table border=\"1\" class=\"dataframe\">\n",
       "  <thead>\n",
       "    <tr style=\"text-align: right;\">\n",
       "      <th></th>\n",
       "      <th>energy_source</th>\n",
       "      <th>electrical_capacity</th>\n",
       "      <th>lat</th>\n",
       "      <th>lon</th>\n",
       "      <th>name</th>\n",
       "    </tr>\n",
       "  </thead>\n",
       "  <tbody>\n",
       "    <tr>\n",
       "      <th>0</th>\n",
       "      <td>Solar</td>\n",
       "      <td>0.2704</td>\n",
       "      <td>46.1795</td>\n",
       "      <td>6.1391</td>\n",
       "      <td>name_0</td>\n",
       "    </tr>\n",
       "    <tr>\n",
       "      <th>1</th>\n",
       "      <td>Solar</td>\n",
       "      <td>0.1100</td>\n",
       "      <td>47.0600</td>\n",
       "      <td>7.0635</td>\n",
       "      <td>name_1</td>\n",
       "    </tr>\n",
       "    <tr>\n",
       "      <th>2</th>\n",
       "      <td>Solar</td>\n",
       "      <td>0.0320</td>\n",
       "      <td>47.1742</td>\n",
       "      <td>8.7059</td>\n",
       "      <td>name_2</td>\n",
       "    </tr>\n",
       "    <tr>\n",
       "      <th>3</th>\n",
       "      <td>Solar</td>\n",
       "      <td>0.0396</td>\n",
       "      <td>46.5285</td>\n",
       "      <td>6.6187</td>\n",
       "      <td>name_3</td>\n",
       "    </tr>\n",
       "    <tr>\n",
       "      <th>4</th>\n",
       "      <td>Solar</td>\n",
       "      <td>0.0432</td>\n",
       "      <td>47.6405</td>\n",
       "      <td>9.1755</td>\n",
       "      <td>name_4</td>\n",
       "    </tr>\n",
       "  </tbody>\n",
       "</table>\n",
       "</div>"
      ],
      "text/plain": [
       "  energy_source  electrical_capacity      lat     lon    name\n",
       "0         Solar               0.2704  46.1795  6.1391  name_0\n",
       "1         Solar               0.1100  47.0600  7.0635  name_1\n",
       "2         Solar               0.0320  47.1742  8.7059  name_2\n",
       "3         Solar               0.0396  46.5285  6.6187  name_3\n",
       "4         Solar               0.0432  47.6405  9.1755  name_4"
      ]
     },
     "execution_count": 15,
     "metadata": {},
     "output_type": "execute_result"
    }
   ],
   "source": [
    "df_all_powerplants.head()"
   ]
  },
  {
   "cell_type": "markdown",
   "metadata": {},
   "source": [
    "### Buses"
   ]
  },
  {
   "cell_type": "code",
   "execution_count": 16,
   "metadata": {
    "scrolled": true
   },
   "outputs": [
    {
     "data": {
      "text/html": [
       "<div>\n",
       "<style>\n",
       "    .dataframe thead tr:only-child th {\n",
       "        text-align: right;\n",
       "    }\n",
       "\n",
       "    .dataframe thead th {\n",
       "        text-align: left;\n",
       "    }\n",
       "\n",
       "    .dataframe tbody tr th {\n",
       "        vertical-align: top;\n",
       "    }\n",
       "</style>\n",
       "<table border=\"1\" class=\"dataframe\">\n",
       "  <thead>\n",
       "    <tr style=\"text-align: right;\">\n",
       "      <th></th>\n",
       "      <th>bus_id</th>\n",
       "      <th>station_id</th>\n",
       "      <th>voltage</th>\n",
       "      <th>dc</th>\n",
       "      <th>symbol</th>\n",
       "      <th>lon</th>\n",
       "      <th>lat</th>\n",
       "    </tr>\n",
       "  </thead>\n",
       "  <tbody>\n",
       "    <tr>\n",
       "      <th>26</th>\n",
       "      <td>6723</td>\n",
       "      <td>7564</td>\n",
       "      <td>380.0</td>\n",
       "      <td>f</td>\n",
       "      <td>joint</td>\n",
       "      <td>-0.977047</td>\n",
       "      <td>37.961746</td>\n",
       "    </tr>\n",
       "    <tr>\n",
       "      <th>27</th>\n",
       "      <td>6724</td>\n",
       "      <td>7565</td>\n",
       "      <td>380.0</td>\n",
       "      <td>f</td>\n",
       "      <td>joint</td>\n",
       "      <td>-0.769043</td>\n",
       "      <td>39.436193</td>\n",
       "    </tr>\n",
       "    <tr>\n",
       "      <th>28</th>\n",
       "      <td>6725</td>\n",
       "      <td>7566</td>\n",
       "      <td>380.0</td>\n",
       "      <td>f</td>\n",
       "      <td>joint</td>\n",
       "      <td>-0.296631</td>\n",
       "      <td>40.195659</td>\n",
       "    </tr>\n",
       "    <tr>\n",
       "      <th>56</th>\n",
       "      <td>6726</td>\n",
       "      <td>7567</td>\n",
       "      <td>380.0</td>\n",
       "      <td>f</td>\n",
       "      <td>joint</td>\n",
       "      <td>21.718037</td>\n",
       "      <td>42.033235</td>\n",
       "    </tr>\n",
       "    <tr>\n",
       "      <th>57</th>\n",
       "      <td>6727</td>\n",
       "      <td>7568</td>\n",
       "      <td>380.0</td>\n",
       "      <td>f</td>\n",
       "      <td>joint</td>\n",
       "      <td>22.061897</td>\n",
       "      <td>42.033604</td>\n",
       "    </tr>\n",
       "  </tbody>\n",
       "</table>\n",
       "</div>"
      ],
      "text/plain": [
       "    bus_id  station_id  voltage dc symbol        lon        lat\n",
       "26    6723        7564    380.0  f  joint  -0.977047  37.961746\n",
       "27    6724        7565    380.0  f  joint  -0.769043  39.436193\n",
       "28    6725        7566    380.0  f  joint  -0.296631  40.195659\n",
       "56    6726        7567    380.0  f  joint  21.718037  42.033235\n",
       "57    6727        7568    380.0  f  joint  22.061897  42.033604"
      ]
     },
     "execution_count": 16,
     "metadata": {},
     "output_type": "execute_result"
    }
   ],
   "source": [
    "path = 'reseau/buses_formatted.csv'\n",
    "buses = pd.read_csv(path, index_col=0)\n",
    "buses.head()"
   ]
  },
  {
   "cell_type": "markdown",
   "metadata": {},
   "source": [
    "## Associate"
   ]
  },
  {
   "cell_type": "code",
   "execution_count": 17,
   "metadata": {},
   "outputs": [
    {
     "name": "stdout",
     "output_type": "stream",
     "text": [
      "0\n",
      "0.10339070310220466\n"
     ]
    }
   ],
   "source": [
    "from math import cos, asin, sqrt\n",
    "from tqdm import tqdm\n",
    "\n",
    "def distance(lat1, lon1, lat2, lon2):\n",
    "    p = 0.017453292519943295\n",
    "    a = 0.5 - cos((lat2-lat1)*p)/2 + cos(lat1*p)*cos(lat2*p) * (1-cos((lon2-lon1)*p)) / 2\n",
    "    return 12742 * asin(sqrt(a))\n",
    "\n",
    "def closest(data, v):\n",
    "    list_dist = []\n",
    "    for p in data:\n",
    "        list_dist.append(distance(v['lat'],v['lon'],p['lat'],p['lon']))\n",
    "    return (list_dist.index(min(list_dist)), min(list_dist))\n",
    "#     return min(data, key=lambda p: distance(v['lat'],v['lon'],p['lat'],p['lon']))\n",
    "\n",
    "tempDataList = [{'lat': 39.7612992, 'lon': -86.1519681}, \n",
    "                {'lat': 39.762241,  'lon': -86.158436 }, \n",
    "                {'lat': 39.7622292, 'lon': -86.1578917}]\n",
    "\n",
    "v = {'lat': 39.7622290, 'lon': -86.1519750}\n",
    "index_bus, dist = closest(tempDataList, v)\n",
    "print(index_bus)\n",
    "print(dist)"
   ]
  },
  {
   "cell_type": "code",
   "execution_count": 18,
   "metadata": {
    "scrolled": true
   },
   "outputs": [
    {
     "name": "stderr",
     "output_type": "stream",
     "text": [
      "1765972it [7:13:43, 67.86it/s]\n"
     ]
    }
   ],
   "source": [
    "datalist = buses.to_dict(orient='records')\n",
    "\n",
    "for index, row in tqdm(df_all_powerplants.iterrows()):\n",
    "    mypoint = {'lat': row['lat'], 'lon': row['lon']}\n",
    "    index_bus, dist = closest(datalist, mypoint)\n",
    "    df_all_powerplants.set_value(index, 'bus_id', buses.iloc[index_bus]['bus_id'])\n",
    "    df_all_powerplants.set_value(index, 'dist_bus_km', dist)"
   ]
  },
  {
   "cell_type": "code",
   "execution_count": 19,
   "metadata": {
    "collapsed": true
   },
   "outputs": [],
   "source": [
    "df_all_powerplants.bus_id = df_all_powerplants.bus_id.astype('int64')"
   ]
  },
  {
   "cell_type": "code",
   "execution_count": 20,
   "metadata": {},
   "outputs": [
    {
     "data": {
      "text/html": [
       "<div>\n",
       "<style>\n",
       "    .dataframe thead tr:only-child th {\n",
       "        text-align: right;\n",
       "    }\n",
       "\n",
       "    .dataframe thead th {\n",
       "        text-align: left;\n",
       "    }\n",
       "\n",
       "    .dataframe tbody tr th {\n",
       "        vertical-align: top;\n",
       "    }\n",
       "</style>\n",
       "<table border=\"1\" class=\"dataframe\">\n",
       "  <thead>\n",
       "    <tr style=\"text-align: right;\">\n",
       "      <th></th>\n",
       "      <th>energy_source</th>\n",
       "      <th>electrical_capacity</th>\n",
       "      <th>lat</th>\n",
       "      <th>lon</th>\n",
       "      <th>name</th>\n",
       "      <th>bus_id</th>\n",
       "      <th>dist_bus_km</th>\n",
       "    </tr>\n",
       "  </thead>\n",
       "  <tbody>\n",
       "    <tr>\n",
       "      <th>0</th>\n",
       "      <td>Solar</td>\n",
       "      <td>0.2704</td>\n",
       "      <td>46.1795</td>\n",
       "      <td>6.1391</td>\n",
       "      <td>name_0</td>\n",
       "      <td>5114</td>\n",
       "      <td>7.518470</td>\n",
       "    </tr>\n",
       "    <tr>\n",
       "      <th>1</th>\n",
       "      <td>Solar</td>\n",
       "      <td>0.1100</td>\n",
       "      <td>47.0600</td>\n",
       "      <td>7.0635</td>\n",
       "      <td>name_1</td>\n",
       "      <td>5533</td>\n",
       "      <td>4.646528</td>\n",
       "    </tr>\n",
       "    <tr>\n",
       "      <th>2</th>\n",
       "      <td>Solar</td>\n",
       "      <td>0.0320</td>\n",
       "      <td>47.1742</td>\n",
       "      <td>8.7059</td>\n",
       "      <td>name_2</td>\n",
       "      <td>5566</td>\n",
       "      <td>3.157175</td>\n",
       "    </tr>\n",
       "    <tr>\n",
       "      <th>3</th>\n",
       "      <td>Solar</td>\n",
       "      <td>0.0396</td>\n",
       "      <td>46.5285</td>\n",
       "      <td>6.6187</td>\n",
       "      <td>name_3</td>\n",
       "      <td>5618</td>\n",
       "      <td>8.821213</td>\n",
       "    </tr>\n",
       "    <tr>\n",
       "      <th>4</th>\n",
       "      <td>Solar</td>\n",
       "      <td>0.0432</td>\n",
       "      <td>47.6405</td>\n",
       "      <td>9.1755</td>\n",
       "      <td>name_4</td>\n",
       "      <td>5607</td>\n",
       "      <td>13.099617</td>\n",
       "    </tr>\n",
       "  </tbody>\n",
       "</table>\n",
       "</div>"
      ],
      "text/plain": [
       "  energy_source  electrical_capacity      lat     lon    name  bus_id  \\\n",
       "0         Solar               0.2704  46.1795  6.1391  name_0    5114   \n",
       "1         Solar               0.1100  47.0600  7.0635  name_1    5533   \n",
       "2         Solar               0.0320  47.1742  8.7059  name_2    5566   \n",
       "3         Solar               0.0396  46.5285  6.6187  name_3    5618   \n",
       "4         Solar               0.0432  47.6405  9.1755  name_4    5607   \n",
       "\n",
       "   dist_bus_km  \n",
       "0     7.518470  \n",
       "1     4.646528  \n",
       "2     3.157175  \n",
       "3     8.821213  \n",
       "4    13.099617  "
      ]
     },
     "execution_count": 20,
     "metadata": {},
     "output_type": "execute_result"
    }
   ],
   "source": [
    "df_all_powerplants.head()"
   ]
  },
  {
   "cell_type": "code",
   "execution_count": 21,
   "metadata": {
    "collapsed": true
   },
   "outputs": [],
   "source": [
    "df_all_powerplants.to_csv('all_powerplants_with_bus.csv')"
   ]
  },
  {
   "cell_type": "markdown",
   "metadata": {},
   "source": [
    "## Explore"
   ]
  },
  {
   "cell_type": "code",
   "execution_count": 4,
   "metadata": {},
   "outputs": [
    {
     "data": {
      "text/html": [
       "<div>\n",
       "<style>\n",
       "    .dataframe thead tr:only-child th {\n",
       "        text-align: right;\n",
       "    }\n",
       "\n",
       "    .dataframe thead th {\n",
       "        text-align: left;\n",
       "    }\n",
       "\n",
       "    .dataframe tbody tr th {\n",
       "        vertical-align: top;\n",
       "    }\n",
       "</style>\n",
       "<table border=\"1\" class=\"dataframe\">\n",
       "  <thead>\n",
       "    <tr style=\"text-align: right;\">\n",
       "      <th></th>\n",
       "      <th>energy_source</th>\n",
       "      <th>electrical_capacity</th>\n",
       "      <th>lat</th>\n",
       "      <th>lon</th>\n",
       "      <th>name</th>\n",
       "      <th>bus_id</th>\n",
       "      <th>dist_bus_km</th>\n",
       "    </tr>\n",
       "  </thead>\n",
       "  <tbody>\n",
       "    <tr>\n",
       "      <th>0</th>\n",
       "      <td>Solar</td>\n",
       "      <td>0.2704</td>\n",
       "      <td>46.1795</td>\n",
       "      <td>6.1391</td>\n",
       "      <td>name_0</td>\n",
       "      <td>5114</td>\n",
       "      <td>7.518470</td>\n",
       "    </tr>\n",
       "    <tr>\n",
       "      <th>1</th>\n",
       "      <td>Solar</td>\n",
       "      <td>0.1100</td>\n",
       "      <td>47.0600</td>\n",
       "      <td>7.0635</td>\n",
       "      <td>name_1</td>\n",
       "      <td>5533</td>\n",
       "      <td>4.646528</td>\n",
       "    </tr>\n",
       "    <tr>\n",
       "      <th>2</th>\n",
       "      <td>Solar</td>\n",
       "      <td>0.0320</td>\n",
       "      <td>47.1742</td>\n",
       "      <td>8.7059</td>\n",
       "      <td>name_2</td>\n",
       "      <td>5566</td>\n",
       "      <td>3.157175</td>\n",
       "    </tr>\n",
       "    <tr>\n",
       "      <th>3</th>\n",
       "      <td>Solar</td>\n",
       "      <td>0.0396</td>\n",
       "      <td>46.5285</td>\n",
       "      <td>6.6187</td>\n",
       "      <td>name_3</td>\n",
       "      <td>5618</td>\n",
       "      <td>8.821213</td>\n",
       "    </tr>\n",
       "    <tr>\n",
       "      <th>4</th>\n",
       "      <td>Solar</td>\n",
       "      <td>0.0432</td>\n",
       "      <td>47.6405</td>\n",
       "      <td>9.1755</td>\n",
       "      <td>name_4</td>\n",
       "      <td>5607</td>\n",
       "      <td>13.099617</td>\n",
       "    </tr>\n",
       "  </tbody>\n",
       "</table>\n",
       "</div>"
      ],
      "text/plain": [
       "  energy_source  electrical_capacity      lat     lon    name  bus_id  \\\n",
       "0         Solar               0.2704  46.1795  6.1391  name_0    5114   \n",
       "1         Solar               0.1100  47.0600  7.0635  name_1    5533   \n",
       "2         Solar               0.0320  47.1742  8.7059  name_2    5566   \n",
       "3         Solar               0.0396  46.5285  6.6187  name_3    5618   \n",
       "4         Solar               0.0432  47.6405  9.1755  name_4    5607   \n",
       "\n",
       "   dist_bus_km  \n",
       "0     7.518470  \n",
       "1     4.646528  \n",
       "2     3.157175  \n",
       "3     8.821213  \n",
       "4    13.099617  "
      ]
     },
     "execution_count": 4,
     "metadata": {},
     "output_type": "execute_result"
    }
   ],
   "source": [
    "df_all_powerplants = pd.read_csv('all_powerplants_with_bus.csv', index_col=0)\n",
    "df_all_powerplants.head()"
   ]
  },
  {
   "cell_type": "code",
   "execution_count": 5,
   "metadata": {},
   "outputs": [
    {
     "data": {
      "text/plain": [
       "count    1.765746e+06\n",
       "mean     1.351453e+01\n",
       "std      3.431492e+01\n",
       "min      3.271121e-02\n",
       "25%      6.818274e+00\n",
       "50%      1.160078e+01\n",
       "75%      1.827481e+01\n",
       "max      1.625941e+04\n",
       "Name: dist_bus_km, dtype: float64"
      ]
     },
     "execution_count": 5,
     "metadata": {},
     "output_type": "execute_result"
    }
   ],
   "source": [
    "df_all_powerplants.dist_bus_km.describe()"
   ]
  },
  {
   "cell_type": "code",
   "execution_count": 13,
   "metadata": {
    "collapsed": true
   },
   "outputs": [],
   "source": [
    "df_all_powerplants.dropna(inplace=True)"
   ]
  },
  {
   "cell_type": "code",
   "execution_count": 24,
   "metadata": {},
   "outputs": [
    {
     "name": "stdout",
     "output_type": "stream",
     "text": [
      "Number of points under 60 km : 1765334\n",
      "Number of points above 60 km : 379\n"
     ]
    },
    {
     "data": {
      "text/plain": [
       "<matplotlib.text.Text at 0x21c05bdfdd8>"
      ]
     },
     "execution_count": 24,
     "metadata": {},
     "output_type": "execute_result"
    },
    {
     "data": {
      "image/png": "[encoded data removed]",
      "text/plain": [
       "<matplotlib.figure.Figure at 0x21c05a829b0>"
      ]
     },
     "metadata": {},
     "output_type": "display_data"
    }
   ],
   "source": [
    "sns.set(color_codes=True)\n",
    "\n",
    "limit = 60\n",
    "print('Number of points under {0} km : {1}'\n",
    "      .format(limit,df_all_powerplants.dist_bus_km[df_all_powerplants.dist_bus_km <= limit].count()))\n",
    "print('Number of points above {0} km : {1}'\n",
    "      .format(limit,df_all_powerplants.dist_bus_km[df_all_powerplants.dist_bus_km > limit].count()))\n",
    "\n",
    "sns.distplot(df_all_powerplants.dist_bus_km[df_all_powerplants.dist_bus_km <= limit])\n",
    "sns.plt.title('Repartition of the distance between powerplant and closest bus')\n",
    "sns.plt.xlabel('Distance in km')\n",
    "sns.plt.ylabel('Density')"
   ]
  },
  {
   "cell_type": "code",
   "execution_count": null,
   "metadata": {
    "collapsed": true
   },
   "outputs": [],
   "source": []
  }
 ],
 "metadata": {
  "kernelspec": {
   "display_name": "Python 3",
   "language": "python",
   "name": "python3"
  },
  "language_info": {
   "codemirror_mode": {
    "name": "ipython",
    "version": 3
   },
   "file_extension": ".py",
   "mimetype": "text/x-python",
   "name": "python",
   "nbconvert_exporter": "python",
   "pygments_lexer": "ipython3",
   "version": "3.6.1"
  }
 },
 "nbformat": 4,
 "nbformat_minor": 2
}
