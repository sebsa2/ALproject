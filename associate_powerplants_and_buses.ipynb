{
 "cells": [
  {
   "cell_type": "code",
   "execution_count": 1,
   "metadata": {
    "collapsed": true
   },
   "outputs": [],
   "source": [
    "import numpy as np\n",
    "import pandas as pd\n",
    "import os\n",
    "import matplotlib.pyplot as plt\n",
    "import seaborn as sns\n",
    "\n",
    "% matplotlib inline"
   ]
  },
  {
   "cell_type": "code",
   "execution_count": 2,
   "metadata": {},
   "outputs": [
    {
     "name": "stdout",
     "output_type": "stream",
     "text": [
      "C:\\Users\\sebsa\\Documents\\Centrale Paris\\3A\\OEN\\Projet Synthese\\data\n"
     ]
    }
   ],
   "source": [
    "%cd C:\\\\Users\\\\sebsa\\\\Documents\\\\Centrale Paris\\\\3A\\\\OEN\\\\Projet Synthese\\\\data"
   ]
  },
  {
   "cell_type": "markdown",
   "metadata": {},
   "source": [
    "## Read and format data"
   ]
  },
  {
   "cell_type": "markdown",
   "metadata": {},
   "source": [
    "## Power Plants"
   ]
  },
  {
   "cell_type": "code",
   "execution_count": 3,
   "metadata": {
    "collapsed": true
   },
   "outputs": [],
   "source": [
    "all_powerplants = []\n",
    "nb_total_files = 0"
   ]
  },
  {
   "cell_type": "markdown",
   "metadata": {},
   "source": [
    "Solar real"
   ]
  },
  {
   "cell_type": "code",
   "execution_count": 4,
   "metadata": {},
   "outputs": [
    {
     "data": {
      "text/plain": [
       "['CH_solar_filtered_1.csv',\n",
       " 'DE_solar_filtered_1.csv',\n",
       " 'DK_solar_filtered_1.csv',\n",
       " 'FR_solar_filtered_1.csv',\n",
       " 'PL_solar_filtered_1.csv',\n",
       " 'randm_gen']"
      ]
     },
     "execution_count": 4,
     "metadata": {},
     "output_type": "execute_result"
    }
   ],
   "source": [
    "path = 'installed_capacity/Solar/'\n",
    "files_powerplants = os.listdir(path)\n",
    "nb_Solar_real = 0\n",
    "files_powerplants"
   ]
  },
  {
   "cell_type": "code",
   "execution_count": 5,
   "metadata": {},
   "outputs": [
    {
     "name": "stderr",
     "output_type": "stream",
     "text": [
      "C:\\Anaconda\\lib\\site-packages\\ipykernel_launcher.py:5: SettingWithCopyWarning: \n",
      "A value is trying to be set on a copy of a slice from a DataFrame.\n",
      "Try using .loc[row_indexer,col_indexer] = value instead\n",
      "\n",
      "See the caveats in the documentation: http://pandas.pydata.org/pandas-docs/stable/indexing.html#indexing-view-versus-copy\n",
      "  \"\"\"\n",
      "C:\\Anaconda\\lib\\site-packages\\IPython\\core\\interactiveshell.py:2717: DtypeWarning: Columns (10,14,16,18,19,20) have mixed types. Specify dtype option on import or set low_memory=False.\n",
      "  interactivity=interactivity, compiler=compiler, result=result)\n",
      "C:\\Anaconda\\lib\\site-packages\\numpy\\lib\\arraysetops.py:395: FutureWarning: elementwise comparison failed; returning scalar instead, but in the future will perform elementwise comparison\n",
      "  mask |= (ar1 == a)\n"
     ]
    }
   ],
   "source": [
    "cols = ['energy_source','electrical_capacity','lat','lon']\n",
    "for name in files_powerplants[:-1]:\n",
    "    df = pd.read_csv(path+name, index_col=0)\n",
    "    out = df[cols]\n",
    "    out['real_or_random_generated'] = 'real'\n",
    "    all_powerplants.append(out)\n",
    "    nb_total_files += 1\n",
    "    nb_Solar_real += 1"
   ]
  },
  {
   "cell_type": "code",
   "execution_count": 6,
   "metadata": {},
   "outputs": [
    {
     "name": "stdout",
     "output_type": "stream",
     "text": [
      "1751688\n"
     ]
    }
   ],
   "source": [
    "print(len(pd.concat(all_powerplants)))"
   ]
  },
  {
   "cell_type": "code",
   "execution_count": 7,
   "metadata": {
    "collapsed": true
   },
   "outputs": [],
   "source": [
    "assert(nb_total_files == len(all_powerplants))"
   ]
  },
  {
   "cell_type": "markdown",
   "metadata": {},
   "source": [
    "Solar random generation"
   ]
  },
  {
   "cell_type": "code",
   "execution_count": 8,
   "metadata": {},
   "outputs": [
    {
     "data": {
      "text/plain": [
       "['BE_N.csv',\n",
       " 'BE_S.csv',\n",
       " 'ES_center.csv',\n",
       " 'ES_N.csv',\n",
       " 'ES_S.csv',\n",
       " 'IT_center.csv',\n",
       " 'IT_NE.csv',\n",
       " 'IT_NW.csv',\n",
       " 'IT_sardegna.csv',\n",
       " 'IT_SE.csv',\n",
       " 'IT_sicilia.csv',\n",
       " 'UK_E.csv',\n",
       " 'UK_SE.csv',\n",
       " 'UK_SW.csv',\n",
       " 'UK_W.csv']"
      ]
     },
     "execution_count": 8,
     "metadata": {},
     "output_type": "execute_result"
    }
   ],
   "source": [
    "path = 'installed_capacity/Solar/randm_gen/'\n",
    "files_powerplants = os.listdir(path)\n",
    "nb_Solar_rdm = 0\n",
    "files_powerplants"
   ]
  },
  {
   "cell_type": "code",
   "execution_count": 9,
   "metadata": {},
   "outputs": [
    {
     "name": "stderr",
     "output_type": "stream",
     "text": [
      "C:\\Anaconda\\lib\\site-packages\\ipykernel_launcher.py:5: SettingWithCopyWarning: \n",
      "A value is trying to be set on a copy of a slice from a DataFrame.\n",
      "Try using .loc[row_indexer,col_indexer] = value instead\n",
      "\n",
      "See the caveats in the documentation: http://pandas.pydata.org/pandas-docs/stable/indexing.html#indexing-view-versus-copy\n",
      "  \"\"\"\n"
     ]
    }
   ],
   "source": [
    "cols = ['energy_source','electrical_capacity','lat','lon']\n",
    "for name in files_powerplants[:-1]:\n",
    "    df = pd.read_csv(path+name, index_col=0)\n",
    "    out = df[cols]\n",
    "    out['real_or_random_generated'] = 'random'\n",
    "    all_powerplants.append(out)\n",
    "    nb_total_files += 1\n",
    "    nb_Solar_rdm += 1"
   ]
  },
  {
   "cell_type": "code",
   "execution_count": 10,
   "metadata": {
    "collapsed": true
   },
   "outputs": [],
   "source": [
    "assert(nb_total_files == len(all_powerplants))"
   ]
  },
  {
   "cell_type": "markdown",
   "metadata": {},
   "source": [
    "Wind"
   ]
  },
  {
   "cell_type": "code",
   "execution_count": 11,
   "metadata": {
    "scrolled": true
   },
   "outputs": [
    {
     "data": {
      "text/plain": [
       "['eufarms_all.csv', 'eufarms_withGPS.csv', 'Extraction The Wind Power']"
      ]
     },
     "execution_count": 11,
     "metadata": {},
     "output_type": "execute_result"
    }
   ],
   "source": [
    "path = 'installed_capacity/Wind/'\n",
    "files_powerplants = os.listdir(path)\n",
    "nb_Wind = 0\n",
    "files_powerplants"
   ]
  },
  {
   "cell_type": "code",
   "execution_count": 12,
   "metadata": {},
   "outputs": [
    {
     "data": {
      "text/html": [
       "<div>\n",
       "<style>\n",
       "    .dataframe thead tr:only-child th {\n",
       "        text-align: right;\n",
       "    }\n",
       "\n",
       "    .dataframe thead th {\n",
       "        text-align: left;\n",
       "    }\n",
       "\n",
       "    .dataframe tbody tr th {\n",
       "        vertical-align: top;\n",
       "    }\n",
       "</style>\n",
       "<table border=\"1\" class=\"dataframe\">\n",
       "  <thead>\n",
       "    <tr style=\"text-align: right;\">\n",
       "      <th></th>\n",
       "      <th>Wind farm name</th>\n",
       "      <th>Total nominal power</th>\n",
       "      <th>Latitude</th>\n",
       "      <th>Longitude</th>\n",
       "    </tr>\n",
       "  </thead>\n",
       "  <tbody>\n",
       "    <tr>\n",
       "      <th>0</th>\n",
       "      <td>Achaia</td>\n",
       "      <td>2000.0</td>\n",
       "      <td>37.969972</td>\n",
       "      <td>21.910000</td>\n",
       "    </tr>\n",
       "    <tr>\n",
       "      <th>1</th>\n",
       "      <td>Aghios Kyrillos</td>\n",
       "      <td>7200.0</td>\n",
       "      <td>34.979111</td>\n",
       "      <td>24.912500</td>\n",
       "    </tr>\n",
       "    <tr>\n",
       "      <th>2</th>\n",
       "      <td>Agios Athanasios</td>\n",
       "      <td>6800.0</td>\n",
       "      <td>40.829056</td>\n",
       "      <td>21.542833</td>\n",
       "    </tr>\n",
       "    <tr>\n",
       "      <th>3</th>\n",
       "      <td>Agios Efstratios</td>\n",
       "      <td>24500.0</td>\n",
       "      <td>39.539972</td>\n",
       "      <td>25.070000</td>\n",
       "    </tr>\n",
       "    <tr>\n",
       "      <th>6</th>\n",
       "      <td>Alogorachi</td>\n",
       "      <td>17000.0</td>\n",
       "      <td>39.410806</td>\n",
       "      <td>22.893306</td>\n",
       "    </tr>\n",
       "  </tbody>\n",
       "</table>\n",
       "</div>"
      ],
      "text/plain": [
       "      Wind farm name  Total nominal power   Latitude  Longitude\n",
       "0             Achaia               2000.0  37.969972  21.910000\n",
       "1    Aghios Kyrillos               7200.0  34.979111  24.912500\n",
       "2   Agios Athanasios               6800.0  40.829056  21.542833\n",
       "3   Agios Efstratios              24500.0  39.539972  25.070000\n",
       "6         Alogorachi              17000.0  39.410806  22.893306"
      ]
     },
     "execution_count": 12,
     "metadata": {},
     "output_type": "execute_result"
    }
   ],
   "source": [
    "df = pd.read_csv(path+'eufarms_withGPS.csv', index_col=0)\n",
    "df.head()"
   ]
  },
  {
   "cell_type": "code",
   "execution_count": 14,
   "metadata": {},
   "outputs": [
    {
     "name": "stderr",
     "output_type": "stream",
     "text": [
      "C:\\Anaconda\\lib\\site-packages\\ipykernel_launcher.py:7: SettingWithCopyWarning: \n",
      "A value is trying to be set on a copy of a slice from a DataFrame.\n",
      "Try using .loc[row_indexer,col_indexer] = value instead\n",
      "\n",
      "See the caveats in the documentation: http://pandas.pydata.org/pandas-docs/stable/indexing.html#indexing-view-versus-copy\n",
      "  import sys\n"
     ]
    },
    {
     "data": {
      "text/html": [
       "<div>\n",
       "<style>\n",
       "    .dataframe thead tr:only-child th {\n",
       "        text-align: right;\n",
       "    }\n",
       "\n",
       "    .dataframe thead th {\n",
       "        text-align: left;\n",
       "    }\n",
       "\n",
       "    .dataframe tbody tr th {\n",
       "        vertical-align: top;\n",
       "    }\n",
       "</style>\n",
       "<table border=\"1\" class=\"dataframe\">\n",
       "  <thead>\n",
       "    <tr style=\"text-align: right;\">\n",
       "      <th></th>\n",
       "      <th>energy_source</th>\n",
       "      <th>electrical_capacity</th>\n",
       "      <th>lat</th>\n",
       "      <th>lon</th>\n",
       "      <th>Wind farm name</th>\n",
       "      <th>real_or_random_generated</th>\n",
       "    </tr>\n",
       "  </thead>\n",
       "  <tbody>\n",
       "    <tr>\n",
       "      <th>0</th>\n",
       "      <td>Wind</td>\n",
       "      <td>2.0</td>\n",
       "      <td>37.969972</td>\n",
       "      <td>21.910000</td>\n",
       "      <td>Achaia</td>\n",
       "      <td>real</td>\n",
       "    </tr>\n",
       "    <tr>\n",
       "      <th>1</th>\n",
       "      <td>Wind</td>\n",
       "      <td>7.2</td>\n",
       "      <td>34.979111</td>\n",
       "      <td>24.912500</td>\n",
       "      <td>Aghios Kyrillos</td>\n",
       "      <td>real</td>\n",
       "    </tr>\n",
       "    <tr>\n",
       "      <th>2</th>\n",
       "      <td>Wind</td>\n",
       "      <td>6.8</td>\n",
       "      <td>40.829056</td>\n",
       "      <td>21.542833</td>\n",
       "      <td>Agios Athanasios</td>\n",
       "      <td>real</td>\n",
       "    </tr>\n",
       "    <tr>\n",
       "      <th>3</th>\n",
       "      <td>Wind</td>\n",
       "      <td>24.5</td>\n",
       "      <td>39.539972</td>\n",
       "      <td>25.070000</td>\n",
       "      <td>Agios Efstratios</td>\n",
       "      <td>real</td>\n",
       "    </tr>\n",
       "    <tr>\n",
       "      <th>6</th>\n",
       "      <td>Wind</td>\n",
       "      <td>17.0</td>\n",
       "      <td>39.410806</td>\n",
       "      <td>22.893306</td>\n",
       "      <td>Alogorachi</td>\n",
       "      <td>real</td>\n",
       "    </tr>\n",
       "  </tbody>\n",
       "</table>\n",
       "</div>"
      ],
      "text/plain": [
       "  energy_source  electrical_capacity        lat        lon     Wind farm name  \\\n",
       "0          Wind                  2.0  37.969972  21.910000             Achaia   \n",
       "1          Wind                  7.2  34.979111  24.912500    Aghios Kyrillos   \n",
       "2          Wind                  6.8  40.829056  21.542833   Agios Athanasios   \n",
       "3          Wind                 24.5  39.539972  25.070000   Agios Efstratios   \n",
       "6          Wind                 17.0  39.410806  22.893306         Alogorachi   \n",
       "\n",
       "  real_or_random_generated  \n",
       "0                     real  \n",
       "1                     real  \n",
       "2                     real  \n",
       "3                     real  \n",
       "6                     real  "
      ]
     },
     "execution_count": 14,
     "metadata": {},
     "output_type": "execute_result"
    }
   ],
   "source": [
    "cols = ['energy_source','electrical_capacity','lat','lon', 'Wind farm name']\n",
    "df['electrical_capacity'] = df['Total nominal power']/1000\n",
    "df['lat'] = df['Latitude']\n",
    "df['lon'] = df['Longitude']\n",
    "df['energy_source'] = 'Wind'\n",
    "df_out = df[cols]\n",
    "df_out['real_or_random_generated'] = 'real'\n",
    "df_out.head()"
   ]
  },
  {
   "cell_type": "code",
   "execution_count": 15,
   "metadata": {
    "collapsed": true
   },
   "outputs": [],
   "source": [
    "all_powerplants.append(df_out)\n",
    "nb_total_files += 1\n",
    "nb_Wind += 1"
   ]
  },
  {
   "cell_type": "code",
   "execution_count": 16,
   "metadata": {
    "collapsed": true
   },
   "outputs": [],
   "source": [
    "# cols = ['energy_source','electrical_capacity','lat','lon']\n",
    "# for name in files_powerplants[:-1]:\n",
    "#     if 'formatted' in name:\n",
    "#         df = pd.read_csv(path+name, index_col=0)\n",
    "#         df['electrical_capacity'] = df['Total nominal power']\n",
    "#         df['lat'] = df['Latitude']\n",
    "#         df['lon'] = df['Longitude']\n",
    "#         out = df[cols]\n",
    "#         out['real_or_random_generated'] = 'real'\n",
    "#         all_powerplants.append(out)\n",
    "#         nb_total_files += 1\n",
    "#         nb_Wind += 1"
   ]
  },
  {
   "cell_type": "code",
   "execution_count": 17,
   "metadata": {
    "collapsed": true
   },
   "outputs": [],
   "source": [
    "assert(nb_total_files == len(all_powerplants))"
   ]
  },
  {
   "cell_type": "markdown",
   "metadata": {},
   "source": [
    "Concatenate df"
   ]
  },
  {
   "cell_type": "code",
   "execution_count": 18,
   "metadata": {
    "collapsed": true
   },
   "outputs": [],
   "source": [
    "assert(nb_total_files == nb_Solar_rdm+nb_Solar_real+nb_Wind)\n",
    "assert(nb_total_files == len(all_powerplants))"
   ]
  },
  {
   "cell_type": "code",
   "execution_count": 19,
   "metadata": {
    "collapsed": true
   },
   "outputs": [],
   "source": [
    "df_all_powerplants = pd.concat(all_powerplants).reset_index().drop(['index'],axis=1)\n",
    "df_all_powerplants['number'] = np.arange(len(df_all_powerplants))\n",
    "df_all_powerplants['name'] = 'name_' + df_all_powerplants['number'].map(str)\n",
    "df_all_powerplants.drop(['number'], axis=1, inplace=True)"
   ]
  },
  {
   "cell_type": "code",
   "execution_count": 22,
   "metadata": {
    "scrolled": true
   },
   "outputs": [
    {
     "data": {
      "text/html": [
       "<div>\n",
       "<style>\n",
       "    .dataframe thead tr:only-child th {\n",
       "        text-align: right;\n",
       "    }\n",
       "\n",
       "    .dataframe thead th {\n",
       "        text-align: left;\n",
       "    }\n",
       "\n",
       "    .dataframe tbody tr th {\n",
       "        vertical-align: top;\n",
       "    }\n",
       "</style>\n",
       "<table border=\"1\" class=\"dataframe\">\n",
       "  <thead>\n",
       "    <tr style=\"text-align: right;\">\n",
       "      <th></th>\n",
       "      <th>Wind farm name</th>\n",
       "      <th>electrical_capacity</th>\n",
       "      <th>energy_source</th>\n",
       "      <th>lat</th>\n",
       "      <th>lon</th>\n",
       "      <th>real_or_random_generated</th>\n",
       "      <th>name</th>\n",
       "    </tr>\n",
       "  </thead>\n",
       "  <tbody>\n",
       "    <tr>\n",
       "      <th>0</th>\n",
       "      <td>NaN</td>\n",
       "      <td>0.2704</td>\n",
       "      <td>Solar</td>\n",
       "      <td>46.1795</td>\n",
       "      <td>6.1391</td>\n",
       "      <td>real</td>\n",
       "      <td>name_0</td>\n",
       "    </tr>\n",
       "    <tr>\n",
       "      <th>1</th>\n",
       "      <td>NaN</td>\n",
       "      <td>0.1100</td>\n",
       "      <td>Solar</td>\n",
       "      <td>47.0600</td>\n",
       "      <td>7.0635</td>\n",
       "      <td>real</td>\n",
       "      <td>name_1</td>\n",
       "    </tr>\n",
       "    <tr>\n",
       "      <th>2</th>\n",
       "      <td>NaN</td>\n",
       "      <td>0.0320</td>\n",
       "      <td>Solar</td>\n",
       "      <td>47.1742</td>\n",
       "      <td>8.7059</td>\n",
       "      <td>real</td>\n",
       "      <td>name_2</td>\n",
       "    </tr>\n",
       "    <tr>\n",
       "      <th>3</th>\n",
       "      <td>NaN</td>\n",
       "      <td>0.0396</td>\n",
       "      <td>Solar</td>\n",
       "      <td>46.5285</td>\n",
       "      <td>6.6187</td>\n",
       "      <td>real</td>\n",
       "      <td>name_3</td>\n",
       "    </tr>\n",
       "    <tr>\n",
       "      <th>4</th>\n",
       "      <td>NaN</td>\n",
       "      <td>0.0432</td>\n",
       "      <td>Solar</td>\n",
       "      <td>47.6405</td>\n",
       "      <td>9.1755</td>\n",
       "      <td>real</td>\n",
       "      <td>name_4</td>\n",
       "    </tr>\n",
       "  </tbody>\n",
       "</table>\n",
       "</div>"
      ],
      "text/plain": [
       "  Wind farm name  electrical_capacity energy_source      lat     lon  \\\n",
       "0            NaN               0.2704         Solar  46.1795  6.1391   \n",
       "1            NaN               0.1100         Solar  47.0600  7.0635   \n",
       "2            NaN               0.0320         Solar  47.1742  8.7059   \n",
       "3            NaN               0.0396         Solar  46.5285  6.6187   \n",
       "4            NaN               0.0432         Solar  47.6405  9.1755   \n",
       "\n",
       "  real_or_random_generated    name  \n",
       "0                     real  name_0  \n",
       "1                     real  name_1  \n",
       "2                     real  name_2  \n",
       "3                     real  name_3  \n",
       "4                     real  name_4  "
      ]
     },
     "execution_count": 22,
     "metadata": {},
     "output_type": "execute_result"
    }
   ],
   "source": [
    "df_all_powerplants.head()"
   ]
  },
  {
   "cell_type": "code",
   "execution_count": 52,
   "metadata": {},
   "outputs": [
    {
     "name": "stdout",
     "output_type": "stream",
     "text": [
      "Total Solar installed capacity : 86.239 GW\n",
      "Expected Solar installed capacity in Europe : about 105 GW\n",
      "Total Wind installed capacity : 192.79 GW\n",
      "Expected Wind installed capacity in Europe : between 150 and 170 GW\n"
     ]
    }
   ],
   "source": [
    "total_solar = df_all_powerplants[df_all_powerplants.energy_source == 'Solar'].electrical_capacity.sum()\n",
    "total_wind = df_all_powerplants[df_all_powerplants.energy_source == 'Wind'].electrical_capacity.sum()\n",
    "print('Total Solar installed capacity : {:.5} GW'.format(total_solar/1000))\n",
    "print('Expected Solar installed capacity in Europe : about 105 GW')\n",
    "print('Total Wind installed capacity : {:.5} GW'.format(total_wind/1000))\n",
    "print('Expected Wind installed capacity in Europe : between 150 and 170 GW')"
   ]
  },
  {
   "cell_type": "code",
   "execution_count": 53,
   "metadata": {},
   "outputs": [
    {
     "data": {
      "text/plain": [
       "(1766914, 7)"
      ]
     },
     "execution_count": 53,
     "metadata": {},
     "output_type": "execute_result"
    }
   ],
   "source": [
    "df_all_powerplants.shape"
   ]
  },
  {
   "cell_type": "markdown",
   "metadata": {},
   "source": [
    "### Buses"
   ]
  },
  {
   "cell_type": "code",
   "execution_count": 54,
   "metadata": {
    "scrolled": true
   },
   "outputs": [
    {
     "data": {
      "text/html": [
       "<div>\n",
       "<style>\n",
       "    .dataframe thead tr:only-child th {\n",
       "        text-align: right;\n",
       "    }\n",
       "\n",
       "    .dataframe thead th {\n",
       "        text-align: left;\n",
       "    }\n",
       "\n",
       "    .dataframe tbody tr th {\n",
       "        vertical-align: top;\n",
       "    }\n",
       "</style>\n",
       "<table border=\"1\" class=\"dataframe\">\n",
       "  <thead>\n",
       "    <tr style=\"text-align: right;\">\n",
       "      <th></th>\n",
       "      <th>bus_id</th>\n",
       "      <th>station_id</th>\n",
       "      <th>voltage</th>\n",
       "      <th>dc</th>\n",
       "      <th>symbol</th>\n",
       "      <th>lon</th>\n",
       "      <th>lat</th>\n",
       "    </tr>\n",
       "  </thead>\n",
       "  <tbody>\n",
       "    <tr>\n",
       "      <th>0</th>\n",
       "      <td>1</td>\n",
       "      <td>2</td>\n",
       "      <td>380.0</td>\n",
       "      <td>f</td>\n",
       "      <td>Substation</td>\n",
       "      <td>43.714600</td>\n",
       "      <td>36.129002</td>\n",
       "    </tr>\n",
       "    <tr>\n",
       "      <th>1</th>\n",
       "      <td>2</td>\n",
       "      <td>3</td>\n",
       "      <td>380.0</td>\n",
       "      <td>f</td>\n",
       "      <td>Substation</td>\n",
       "      <td>43.967285</td>\n",
       "      <td>35.460670</td>\n",
       "    </tr>\n",
       "    <tr>\n",
       "      <th>2</th>\n",
       "      <td>3</td>\n",
       "      <td>4</td>\n",
       "      <td>380.0</td>\n",
       "      <td>f</td>\n",
       "      <td>Substation</td>\n",
       "      <td>44.813232</td>\n",
       "      <td>31.456782</td>\n",
       "    </tr>\n",
       "    <tr>\n",
       "      <th>3</th>\n",
       "      <td>4</td>\n",
       "      <td>5</td>\n",
       "      <td>380.0</td>\n",
       "      <td>f</td>\n",
       "      <td>Substation</td>\n",
       "      <td>43.967285</td>\n",
       "      <td>32.184911</td>\n",
       "    </tr>\n",
       "    <tr>\n",
       "      <th>4</th>\n",
       "      <td>5</td>\n",
       "      <td>6</td>\n",
       "      <td>380.0</td>\n",
       "      <td>f</td>\n",
       "      <td>Substation</td>\n",
       "      <td>44.011230</td>\n",
       "      <td>32.704111</td>\n",
       "    </tr>\n",
       "  </tbody>\n",
       "</table>\n",
       "</div>"
      ],
      "text/plain": [
       "   bus_id  station_id  voltage dc      symbol        lon        lat\n",
       "0       1           2    380.0  f  Substation  43.714600  36.129002\n",
       "1       2           3    380.0  f  Substation  43.967285  35.460670\n",
       "2       3           4    380.0  f  Substation  44.813232  31.456782\n",
       "3       4           5    380.0  f  Substation  43.967285  32.184911\n",
       "4       5           6    380.0  f  Substation  44.011230  32.704111"
      ]
     },
     "execution_count": 54,
     "metadata": {},
     "output_type": "execute_result"
    }
   ],
   "source": [
    "path = 'reseau/buses_formatted.csv'\n",
    "buses = pd.read_csv(path, index_col=0)\n",
    "buses.head()"
   ]
  },
  {
   "cell_type": "code",
   "execution_count": 55,
   "metadata": {},
   "outputs": [
    {
     "data": {
      "text/html": [
       "<div>\n",
       "<style>\n",
       "    .dataframe thead tr:only-child th {\n",
       "        text-align: right;\n",
       "    }\n",
       "\n",
       "    .dataframe thead th {\n",
       "        text-align: left;\n",
       "    }\n",
       "\n",
       "    .dataframe tbody tr th {\n",
       "        vertical-align: top;\n",
       "    }\n",
       "</style>\n",
       "<table border=\"1\" class=\"dataframe\">\n",
       "  <thead>\n",
       "    <tr style=\"text-align: right;\">\n",
       "      <th></th>\n",
       "      <th>bus_id</th>\n",
       "      <th>station_id</th>\n",
       "      <th>voltage</th>\n",
       "      <th>lon</th>\n",
       "      <th>lat</th>\n",
       "    </tr>\n",
       "  </thead>\n",
       "  <tbody>\n",
       "    <tr>\n",
       "      <th>count</th>\n",
       "      <td>7893.00000</td>\n",
       "      <td>7893.00000</td>\n",
       "      <td>7812.000000</td>\n",
       "      <td>7893.000000</td>\n",
       "      <td>7893.000000</td>\n",
       "    </tr>\n",
       "    <tr>\n",
       "      <th>mean</th>\n",
       "      <td>3947.00000</td>\n",
       "      <td>4350.30356</td>\n",
       "      <td>274.071685</td>\n",
       "      <td>14.235294</td>\n",
       "      <td>46.132944</td>\n",
       "    </tr>\n",
       "    <tr>\n",
       "      <th>std</th>\n",
       "      <td>2278.65717</td>\n",
       "      <td>2472.29725</td>\n",
       "      <td>94.749435</td>\n",
       "      <td>16.279861</td>\n",
       "      <td>8.699818</td>\n",
       "    </tr>\n",
       "    <tr>\n",
       "      <th>min</th>\n",
       "      <td>1.00000</td>\n",
       "      <td>2.00000</td>\n",
       "      <td>132.000000</td>\n",
       "      <td>-23.148193</td>\n",
       "      <td>21.667639</td>\n",
       "    </tr>\n",
       "    <tr>\n",
       "      <th>25%</th>\n",
       "      <td>1974.00000</td>\n",
       "      <td>2336.00000</td>\n",
       "      <td>220.000000</td>\n",
       "      <td>1.604004</td>\n",
       "      <td>40.430224</td>\n",
       "    </tr>\n",
       "    <tr>\n",
       "      <th>50%</th>\n",
       "      <td>3947.00000</td>\n",
       "      <td>4160.00000</td>\n",
       "      <td>220.000000</td>\n",
       "      <td>10.063477</td>\n",
       "      <td>46.558860</td>\n",
       "    </tr>\n",
       "    <tr>\n",
       "      <th>75%</th>\n",
       "      <td>5920.00000</td>\n",
       "      <td>6490.00000</td>\n",
       "      <td>380.000000</td>\n",
       "      <td>25.125732</td>\n",
       "      <td>51.984880</td>\n",
       "    </tr>\n",
       "    <tr>\n",
       "      <th>max</th>\n",
       "      <td>7893.00000</td>\n",
       "      <td>8701.00000</td>\n",
       "      <td>750.000000</td>\n",
       "      <td>67.313232</td>\n",
       "      <td>70.363091</td>\n",
       "    </tr>\n",
       "  </tbody>\n",
       "</table>\n",
       "</div>"
      ],
      "text/plain": [
       "           bus_id  station_id      voltage          lon          lat\n",
       "count  7893.00000  7893.00000  7812.000000  7893.000000  7893.000000\n",
       "mean   3947.00000  4350.30356   274.071685    14.235294    46.132944\n",
       "std    2278.65717  2472.29725    94.749435    16.279861     8.699818\n",
       "min       1.00000     2.00000   132.000000   -23.148193    21.667639\n",
       "25%    1974.00000  2336.00000   220.000000     1.604004    40.430224\n",
       "50%    3947.00000  4160.00000   220.000000    10.063477    46.558860\n",
       "75%    5920.00000  6490.00000   380.000000    25.125732    51.984880\n",
       "max    7893.00000  8701.00000   750.000000    67.313232    70.363091"
      ]
     },
     "execution_count": 55,
     "metadata": {},
     "output_type": "execute_result"
    }
   ],
   "source": [
    "buses.describe()"
   ]
  },
  {
   "cell_type": "markdown",
   "metadata": {},
   "source": [
    "## Associate"
   ]
  },
  {
   "cell_type": "code",
   "execution_count": 56,
   "metadata": {},
   "outputs": [
    {
     "name": "stdout",
     "output_type": "stream",
     "text": [
      "0\n",
      "0.10339070310220466\n"
     ]
    }
   ],
   "source": [
    "from math import cos, asin, sqrt\n",
    "from tqdm import tqdm\n",
    "\n",
    "def distance(lat1, lon1, lat2, lon2):\n",
    "    p = 0.017453292519943295\n",
    "    a = 0.5 - cos((lat2-lat1)*p)/2 + cos(lat1*p)*cos(lat2*p) * (1-cos((lon2-lon1)*p)) / 2\n",
    "    return 12742 * asin(sqrt(a))\n",
    "\n",
    "def closest(data, v):\n",
    "    list_dist = []\n",
    "    for p in data:\n",
    "        list_dist.append(distance(v['lat'],v['lon'],p['lat'],p['lon']))\n",
    "    return (list_dist.index(min(list_dist)), min(list_dist))\n",
    "#     return min(data, key=lambda p: distance(v['lat'],v['lon'],p['lat'],p['lon']))\n",
    "\n",
    "tempDataList = [{'lat': 39.7612992, 'lon': -86.1519681}, \n",
    "                {'lat': 39.762241,  'lon': -86.158436 }, \n",
    "                {'lat': 39.7622292, 'lon': -86.1578917}]\n",
    "\n",
    "v = {'lat': 39.7622290, 'lon': -86.1519750}\n",
    "index_bus, dist = closest(tempDataList, v)\n",
    "print(index_bus)\n",
    "print(dist)"
   ]
  },
  {
   "cell_type": "code",
   "execution_count": 57,
   "metadata": {
    "scrolled": true
   },
   "outputs": [
    {
     "name": "stderr",
     "output_type": "stream",
     "text": [
      "1766914it [6:26:53, 76.12it/s]\n"
     ]
    }
   ],
   "source": [
    "datalist = buses.to_dict(orient='records')\n",
    "\n",
    "for index, row in tqdm(df_all_powerplants.iterrows()):\n",
    "    mypoint = {'lat': row['lat'], 'lon': row['lon']}\n",
    "    index_bus, dist = closest(datalist, mypoint)\n",
    "    df_all_powerplants.set_value(index, 'bus_id', buses.iloc[index_bus]['bus_id'])\n",
    "    df_all_powerplants.set_value(index, 'dist_bus_km', dist)"
   ]
  },
  {
   "cell_type": "code",
   "execution_count": 58,
   "metadata": {
    "collapsed": true
   },
   "outputs": [],
   "source": [
    "df_all_powerplants.bus_id = df_all_powerplants.bus_id.astype('int64')"
   ]
  },
  {
   "cell_type": "code",
   "execution_count": 59,
   "metadata": {},
   "outputs": [
    {
     "data": {
      "text/html": [
       "<div>\n",
       "<style>\n",
       "    .dataframe thead tr:only-child th {\n",
       "        text-align: right;\n",
       "    }\n",
       "\n",
       "    .dataframe thead th {\n",
       "        text-align: left;\n",
       "    }\n",
       "\n",
       "    .dataframe tbody tr th {\n",
       "        vertical-align: top;\n",
       "    }\n",
       "</style>\n",
       "<table border=\"1\" class=\"dataframe\">\n",
       "  <thead>\n",
       "    <tr style=\"text-align: right;\">\n",
       "      <th></th>\n",
       "      <th>Wind farm name</th>\n",
       "      <th>electrical_capacity</th>\n",
       "      <th>energy_source</th>\n",
       "      <th>lat</th>\n",
       "      <th>lon</th>\n",
       "      <th>real_or_random_generated</th>\n",
       "      <th>name</th>\n",
       "      <th>bus_id</th>\n",
       "      <th>dist_bus_km</th>\n",
       "    </tr>\n",
       "  </thead>\n",
       "  <tbody>\n",
       "    <tr>\n",
       "      <th>0</th>\n",
       "      <td>NaN</td>\n",
       "      <td>0.2704</td>\n",
       "      <td>Solar</td>\n",
       "      <td>46.1795</td>\n",
       "      <td>6.1391</td>\n",
       "      <td>real</td>\n",
       "      <td>name_0</td>\n",
       "      <td>5114</td>\n",
       "      <td>7.518470</td>\n",
       "    </tr>\n",
       "    <tr>\n",
       "      <th>1</th>\n",
       "      <td>NaN</td>\n",
       "      <td>0.1100</td>\n",
       "      <td>Solar</td>\n",
       "      <td>47.0600</td>\n",
       "      <td>7.0635</td>\n",
       "      <td>real</td>\n",
       "      <td>name_1</td>\n",
       "      <td>5533</td>\n",
       "      <td>4.646528</td>\n",
       "    </tr>\n",
       "    <tr>\n",
       "      <th>2</th>\n",
       "      <td>NaN</td>\n",
       "      <td>0.0320</td>\n",
       "      <td>Solar</td>\n",
       "      <td>47.1742</td>\n",
       "      <td>8.7059</td>\n",
       "      <td>real</td>\n",
       "      <td>name_2</td>\n",
       "      <td>5566</td>\n",
       "      <td>3.157175</td>\n",
       "    </tr>\n",
       "    <tr>\n",
       "      <th>3</th>\n",
       "      <td>NaN</td>\n",
       "      <td>0.0396</td>\n",
       "      <td>Solar</td>\n",
       "      <td>46.5285</td>\n",
       "      <td>6.6187</td>\n",
       "      <td>real</td>\n",
       "      <td>name_3</td>\n",
       "      <td>5618</td>\n",
       "      <td>8.821213</td>\n",
       "    </tr>\n",
       "    <tr>\n",
       "      <th>4</th>\n",
       "      <td>NaN</td>\n",
       "      <td>0.0432</td>\n",
       "      <td>Solar</td>\n",
       "      <td>47.6405</td>\n",
       "      <td>9.1755</td>\n",
       "      <td>real</td>\n",
       "      <td>name_4</td>\n",
       "      <td>5607</td>\n",
       "      <td>13.099617</td>\n",
       "    </tr>\n",
       "  </tbody>\n",
       "</table>\n",
       "</div>"
      ],
      "text/plain": [
       "  Wind farm name  electrical_capacity energy_source      lat     lon  \\\n",
       "0            NaN               0.2704         Solar  46.1795  6.1391   \n",
       "1            NaN               0.1100         Solar  47.0600  7.0635   \n",
       "2            NaN               0.0320         Solar  47.1742  8.7059   \n",
       "3            NaN               0.0396         Solar  46.5285  6.6187   \n",
       "4            NaN               0.0432         Solar  47.6405  9.1755   \n",
       "\n",
       "  real_or_random_generated    name  bus_id  dist_bus_km  \n",
       "0                     real  name_0    5114     7.518470  \n",
       "1                     real  name_1    5533     4.646528  \n",
       "2                     real  name_2    5566     3.157175  \n",
       "3                     real  name_3    5618     8.821213  \n",
       "4                     real  name_4    5607    13.099617  "
      ]
     },
     "execution_count": 59,
     "metadata": {},
     "output_type": "execute_result"
    }
   ],
   "source": [
    "df_all_powerplants.head()"
   ]
  },
  {
   "cell_type": "code",
   "execution_count": 60,
   "metadata": {
    "collapsed": true
   },
   "outputs": [],
   "source": [
    "df_all_powerplants.to_csv('all_powerplants_with_bus.csv')"
   ]
  },
  {
   "cell_type": "markdown",
   "metadata": {},
   "source": [
    "## Explore"
   ]
  },
  {
   "cell_type": "code",
   "execution_count": 7,
   "metadata": {
    "scrolled": true
   },
   "outputs": [],
   "source": [
    "# df_all_powerplants.to_csv('all_powerplants_with_bus.csv', encoding='utf-8')"
   ]
  },
  {
   "cell_type": "code",
   "execution_count": 9,
   "metadata": {},
   "outputs": [
    {
     "name": "stderr",
     "output_type": "stream",
     "text": [
      "C:\\Anaconda\\lib\\site-packages\\IPython\\core\\interactiveshell.py:2717: DtypeWarning: Columns (1) have mixed types. Specify dtype option on import or set low_memory=False.\n",
      "  interactivity=interactivity, compiler=compiler, result=result)\n",
      "C:\\Anaconda\\lib\\site-packages\\numpy\\lib\\arraysetops.py:395: FutureWarning: elementwise comparison failed; returning scalar instead, but in the future will perform elementwise comparison\n",
      "  mask |= (ar1 == a)\n"
     ]
    },
    {
     "data": {
      "text/html": [
       "<div>\n",
       "<style>\n",
       "    .dataframe thead tr:only-child th {\n",
       "        text-align: right;\n",
       "    }\n",
       "\n",
       "    .dataframe thead th {\n",
       "        text-align: left;\n",
       "    }\n",
       "\n",
       "    .dataframe tbody tr th {\n",
       "        vertical-align: top;\n",
       "    }\n",
       "</style>\n",
       "<table border=\"1\" class=\"dataframe\">\n",
       "  <thead>\n",
       "    <tr style=\"text-align: right;\">\n",
       "      <th></th>\n",
       "      <th>Wind farm name</th>\n",
       "      <th>electrical_capacity</th>\n",
       "      <th>energy_source</th>\n",
       "      <th>lat</th>\n",
       "      <th>lon</th>\n",
       "      <th>real_or_random_generated</th>\n",
       "      <th>name</th>\n",
       "      <th>bus_id</th>\n",
       "      <th>dist_bus_km</th>\n",
       "    </tr>\n",
       "  </thead>\n",
       "  <tbody>\n",
       "    <tr>\n",
       "      <th>0</th>\n",
       "      <td>NaN</td>\n",
       "      <td>0.2704</td>\n",
       "      <td>Solar</td>\n",
       "      <td>46.1795</td>\n",
       "      <td>6.1391</td>\n",
       "      <td>real</td>\n",
       "      <td>name_0</td>\n",
       "      <td>5114</td>\n",
       "      <td>7.518470</td>\n",
       "    </tr>\n",
       "    <tr>\n",
       "      <th>1</th>\n",
       "      <td>NaN</td>\n",
       "      <td>0.1100</td>\n",
       "      <td>Solar</td>\n",
       "      <td>47.0600</td>\n",
       "      <td>7.0635</td>\n",
       "      <td>real</td>\n",
       "      <td>name_1</td>\n",
       "      <td>5533</td>\n",
       "      <td>4.646528</td>\n",
       "    </tr>\n",
       "    <tr>\n",
       "      <th>2</th>\n",
       "      <td>NaN</td>\n",
       "      <td>0.0320</td>\n",
       "      <td>Solar</td>\n",
       "      <td>47.1742</td>\n",
       "      <td>8.7059</td>\n",
       "      <td>real</td>\n",
       "      <td>name_2</td>\n",
       "      <td>5566</td>\n",
       "      <td>3.157175</td>\n",
       "    </tr>\n",
       "    <tr>\n",
       "      <th>3</th>\n",
       "      <td>NaN</td>\n",
       "      <td>0.0396</td>\n",
       "      <td>Solar</td>\n",
       "      <td>46.5285</td>\n",
       "      <td>6.6187</td>\n",
       "      <td>real</td>\n",
       "      <td>name_3</td>\n",
       "      <td>5618</td>\n",
       "      <td>8.821213</td>\n",
       "    </tr>\n",
       "    <tr>\n",
       "      <th>4</th>\n",
       "      <td>NaN</td>\n",
       "      <td>0.0432</td>\n",
       "      <td>Solar</td>\n",
       "      <td>47.6405</td>\n",
       "      <td>9.1755</td>\n",
       "      <td>real</td>\n",
       "      <td>name_4</td>\n",
       "      <td>5607</td>\n",
       "      <td>13.099617</td>\n",
       "    </tr>\n",
       "  </tbody>\n",
       "</table>\n",
       "</div>"
      ],
      "text/plain": [
       "  Wind farm name  electrical_capacity energy_source      lat     lon  \\\n",
       "0            NaN               0.2704         Solar  46.1795  6.1391   \n",
       "1            NaN               0.1100         Solar  47.0600  7.0635   \n",
       "2            NaN               0.0320         Solar  47.1742  8.7059   \n",
       "3            NaN               0.0396         Solar  46.5285  6.6187   \n",
       "4            NaN               0.0432         Solar  47.6405  9.1755   \n",
       "\n",
       "  real_or_random_generated    name  bus_id  dist_bus_km  \n",
       "0                     real  name_0    5114     7.518470  \n",
       "1                     real  name_1    5533     4.646528  \n",
       "2                     real  name_2    5566     3.157175  \n",
       "3                     real  name_3    5618     8.821213  \n",
       "4                     real  name_4    5607    13.099617  "
      ]
     },
     "execution_count": 9,
     "metadata": {},
     "output_type": "execute_result"
    }
   ],
   "source": [
    "df_all_powerplants = pd.read_csv('all_powerplants_with_bus.csv', index_col=0)\n",
    "df_all_powerplants.head()"
   ]
  },
  {
   "cell_type": "code",
   "execution_count": 10,
   "metadata": {},
   "outputs": [
    {
     "data": {
      "text/plain": [
       "1766914"
      ]
     },
     "execution_count": 10,
     "metadata": {},
     "output_type": "execute_result"
    }
   ],
   "source": [
    "len(df_all_powerplants) "
   ]
  },
  {
   "cell_type": "code",
   "execution_count": 13,
   "metadata": {},
   "outputs": [
    {
     "data": {
      "text/plain": [
       "count    1.766688e+06\n",
       "mean     1.353277e+01\n",
       "std      3.545805e+01\n",
       "min      3.271121e-02\n",
       "25%      6.818274e+00\n",
       "50%      1.160078e+01\n",
       "75%      1.830168e+01\n",
       "max      1.625941e+04\n",
       "Name: dist_bus_km, dtype: float64"
      ]
     },
     "execution_count": 13,
     "metadata": {},
     "output_type": "execute_result"
    }
   ],
   "source": [
    "df_all_powerplants.dist_bus_km.describe()"
   ]
  },
  {
   "cell_type": "code",
   "execution_count": 14,
   "metadata": {
    "collapsed": true
   },
   "outputs": [],
   "source": [
    "# df_all_powerplants.dropna(inplace=True)"
   ]
  },
  {
   "cell_type": "code",
   "execution_count": 15,
   "metadata": {},
   "outputs": [
    {
     "name": "stdout",
     "output_type": "stream",
     "text": [
      "Number of points under 60 km : 1766204\n",
      "Number of points above 60 km : 484\n"
     ]
    },
    {
     "data": {
      "text/plain": [
       "<matplotlib.text.Text at 0x22d046e5ac8>"
      ]
     },
     "execution_count": 15,
     "metadata": {},
     "output_type": "execute_result"
    },
    {
     "data": {
      "image/png": "[encoded data removed]",
      "text/plain": [
       "<matplotlib.figure.Figure at 0x22d468fa048>"
      ]
     },
     "metadata": {},
     "output_type": "display_data"
    }
   ],
   "source": [
    "sns.set(color_codes=True)\n",
    "\n",
    "limit = 60\n",
    "print('Number of points under {0} km : {1}'\n",
    "      .format(limit,df_all_powerplants.dist_bus_km[df_all_powerplants.dist_bus_km <= limit].count()))\n",
    "print('Number of points above {0} km : {1}'\n",
    "      .format(limit,df_all_powerplants.dist_bus_km[df_all_powerplants.dist_bus_km > limit].count()))\n",
    "\n",
    "sns.distplot(df_all_powerplants.dist_bus_km[df_all_powerplants.dist_bus_km <= limit])\n",
    "sns.plt.title('Repartition of the distance between powerplant and closest bus')\n",
    "sns.plt.xlabel('Distance in km')\n",
    "sns.plt.ylabel('Density')"
   ]
  },
  {
   "cell_type": "code",
   "execution_count": 16,
   "metadata": {
    "collapsed": true
   },
   "outputs": [],
   "source": [
    "df_bus_capacity_solar = df_all_powerplants[df_all_powerplants.energy_source == 'Solar'].groupby(['bus_id'], as_index=False)['electrical_capacity'].sum()"
   ]
  },
  {
   "cell_type": "code",
   "execution_count": 17,
   "metadata": {
    "collapsed": true
   },
   "outputs": [],
   "source": [
    "df_bus_capacity_solar.to_csv('capacity_solar_by_bus.csv')"
   ]
  },
  {
   "cell_type": "code",
   "execution_count": 18,
   "metadata": {
    "collapsed": true
   },
   "outputs": [],
   "source": [
    "df_bus_capacity_wind = df_all_powerplants[df_all_powerplants.energy_source == 'Wind'].groupby(['bus_id'], as_index=False)['electrical_capacity'].sum()"
   ]
  },
  {
   "cell_type": "code",
   "execution_count": 19,
   "metadata": {
    "collapsed": true
   },
   "outputs": [],
   "source": [
    "df_bus_capacity_wind.to_csv('capacity_wind_by_bus.csv')"
   ]
  },
  {
   "cell_type": "code",
   "execution_count": 21,
   "metadata": {},
   "outputs": [],
   "source": [
    "# df_bus_capacity.electrical_capacity.describe()"
   ]
  },
  {
   "cell_type": "code",
   "execution_count": 23,
   "metadata": {},
   "outputs": [],
   "source": [
    "# limit_capa = 4000\n",
    "# print('Number of points under {0} MW : {1}'\n",
    "#       .format(limit_capa,df_bus_capacity.electrical_capacity[df_bus_capacity.electrical_capacity <= limit_capa].count()))\n",
    "# print('Number of points above {0} MW : {1}'\n",
    "#       .format(limit_capa,df_bus_capacity.electrical_capacity[df_bus_capacity.electrical_capacity > limit_capa].count()))\n",
    "\n",
    "# sns.distplot(df_bus_capacity.electrical_capacity[df_bus_capacity.electrical_capacity <= limit_capa])\n",
    "# sns.plt.title('Repartition of the electrical capacity by bus')\n",
    "# sns.plt.xlabel('Electrical capacity in MW')\n",
    "# sns.plt.ylabel('Density')"
   ]
  },
  {
   "cell_type": "markdown",
   "metadata": {},
   "source": [
    "## Add capacity to bus csv"
   ]
  },
  {
   "cell_type": "code",
   "execution_count": 24,
   "metadata": {},
   "outputs": [
    {
     "data": {
      "text/html": [
       "<div>\n",
       "<style>\n",
       "    .dataframe thead tr:only-child th {\n",
       "        text-align: right;\n",
       "    }\n",
       "\n",
       "    .dataframe thead th {\n",
       "        text-align: left;\n",
       "    }\n",
       "\n",
       "    .dataframe tbody tr th {\n",
       "        vertical-align: top;\n",
       "    }\n",
       "</style>\n",
       "<table border=\"1\" class=\"dataframe\">\n",
       "  <thead>\n",
       "    <tr style=\"text-align: right;\">\n",
       "      <th></th>\n",
       "      <th>bus_id</th>\n",
       "      <th>station_id</th>\n",
       "      <th>voltage</th>\n",
       "      <th>dc</th>\n",
       "      <th>symbol</th>\n",
       "      <th>lon</th>\n",
       "      <th>lat</th>\n",
       "    </tr>\n",
       "  </thead>\n",
       "  <tbody>\n",
       "    <tr>\n",
       "      <th>0</th>\n",
       "      <td>1</td>\n",
       "      <td>2</td>\n",
       "      <td>380.0</td>\n",
       "      <td>f</td>\n",
       "      <td>Substation</td>\n",
       "      <td>43.714600</td>\n",
       "      <td>36.129002</td>\n",
       "    </tr>\n",
       "    <tr>\n",
       "      <th>1</th>\n",
       "      <td>2</td>\n",
       "      <td>3</td>\n",
       "      <td>380.0</td>\n",
       "      <td>f</td>\n",
       "      <td>Substation</td>\n",
       "      <td>43.967285</td>\n",
       "      <td>35.460670</td>\n",
       "    </tr>\n",
       "    <tr>\n",
       "      <th>2</th>\n",
       "      <td>3</td>\n",
       "      <td>4</td>\n",
       "      <td>380.0</td>\n",
       "      <td>f</td>\n",
       "      <td>Substation</td>\n",
       "      <td>44.813232</td>\n",
       "      <td>31.456782</td>\n",
       "    </tr>\n",
       "    <tr>\n",
       "      <th>3</th>\n",
       "      <td>4</td>\n",
       "      <td>5</td>\n",
       "      <td>380.0</td>\n",
       "      <td>f</td>\n",
       "      <td>Substation</td>\n",
       "      <td>43.967285</td>\n",
       "      <td>32.184911</td>\n",
       "    </tr>\n",
       "    <tr>\n",
       "      <th>4</th>\n",
       "      <td>5</td>\n",
       "      <td>6</td>\n",
       "      <td>380.0</td>\n",
       "      <td>f</td>\n",
       "      <td>Substation</td>\n",
       "      <td>44.011230</td>\n",
       "      <td>32.704111</td>\n",
       "    </tr>\n",
       "  </tbody>\n",
       "</table>\n",
       "</div>"
      ],
      "text/plain": [
       "   bus_id  station_id  voltage dc      symbol        lon        lat\n",
       "0       1           2    380.0  f  Substation  43.714600  36.129002\n",
       "1       2           3    380.0  f  Substation  43.967285  35.460670\n",
       "2       3           4    380.0  f  Substation  44.813232  31.456782\n",
       "3       4           5    380.0  f  Substation  43.967285  32.184911\n",
       "4       5           6    380.0  f  Substation  44.011230  32.704111"
      ]
     },
     "execution_count": 24,
     "metadata": {},
     "output_type": "execute_result"
    }
   ],
   "source": [
    "path = 'reseau/buses_formatted.csv'\n",
    "buses = pd.read_csv(path, index_col=0)\n",
    "buses.head()"
   ]
  },
  {
   "cell_type": "code",
   "execution_count": 25,
   "metadata": {
    "collapsed": true
   },
   "outputs": [],
   "source": [
    "df_bus_capacity_solar.rename(columns={'electrical_capacity':'electrical_capacity_solar'}, inplace=True)\n",
    "df_bus_capacity_wind.rename(columns={'electrical_capacity':'electrical_capacity_wind'}, inplace=True)"
   ]
  },
  {
   "cell_type": "code",
   "execution_count": 26,
   "metadata": {},
   "outputs": [
    {
     "data": {
      "text/html": [
       "<div>\n",
       "<style>\n",
       "    .dataframe thead tr:only-child th {\n",
       "        text-align: right;\n",
       "    }\n",
       "\n",
       "    .dataframe thead th {\n",
       "        text-align: left;\n",
       "    }\n",
       "\n",
       "    .dataframe tbody tr th {\n",
       "        vertical-align: top;\n",
       "    }\n",
       "</style>\n",
       "<table border=\"1\" class=\"dataframe\">\n",
       "  <thead>\n",
       "    <tr style=\"text-align: right;\">\n",
       "      <th></th>\n",
       "      <th>bus_id</th>\n",
       "      <th>electrical_capacity_solar</th>\n",
       "    </tr>\n",
       "  </thead>\n",
       "  <tbody>\n",
       "    <tr>\n",
       "      <th>0</th>\n",
       "      <td>1</td>\n",
       "      <td>225.12687</td>\n",
       "    </tr>\n",
       "    <tr>\n",
       "      <th>1</th>\n",
       "      <td>26</td>\n",
       "      <td>40.00000</td>\n",
       "    </tr>\n",
       "    <tr>\n",
       "      <th>2</th>\n",
       "      <td>98</td>\n",
       "      <td>29.47377</td>\n",
       "    </tr>\n",
       "    <tr>\n",
       "      <th>3</th>\n",
       "      <td>129</td>\n",
       "      <td>20.00000</td>\n",
       "    </tr>\n",
       "    <tr>\n",
       "      <th>4</th>\n",
       "      <td>130</td>\n",
       "      <td>40.00000</td>\n",
       "    </tr>\n",
       "  </tbody>\n",
       "</table>\n",
       "</div>"
      ],
      "text/plain": [
       "   bus_id  electrical_capacity_solar\n",
       "0       1                  225.12687\n",
       "1      26                   40.00000\n",
       "2      98                   29.47377\n",
       "3     129                   20.00000\n",
       "4     130                   40.00000"
      ]
     },
     "execution_count": 26,
     "metadata": {},
     "output_type": "execute_result"
    }
   ],
   "source": [
    "df_bus_capacity_solar.head()"
   ]
  },
  {
   "cell_type": "code",
   "execution_count": 27,
   "metadata": {},
   "outputs": [
    {
     "data": {
      "text/html": [
       "<div>\n",
       "<style>\n",
       "    .dataframe thead tr:only-child th {\n",
       "        text-align: right;\n",
       "    }\n",
       "\n",
       "    .dataframe thead th {\n",
       "        text-align: left;\n",
       "    }\n",
       "\n",
       "    .dataframe tbody tr th {\n",
       "        vertical-align: top;\n",
       "    }\n",
       "</style>\n",
       "<table border=\"1\" class=\"dataframe\">\n",
       "  <thead>\n",
       "    <tr style=\"text-align: right;\">\n",
       "      <th></th>\n",
       "      <th>bus_id</th>\n",
       "      <th>electrical_capacity_wind</th>\n",
       "    </tr>\n",
       "  </thead>\n",
       "  <tbody>\n",
       "    <tr>\n",
       "      <th>0</th>\n",
       "      <td>67</td>\n",
       "      <td>6.325</td>\n",
       "    </tr>\n",
       "    <tr>\n",
       "      <th>1</th>\n",
       "      <td>72</td>\n",
       "      <td>84.300</td>\n",
       "    </tr>\n",
       "    <tr>\n",
       "      <th>2</th>\n",
       "      <td>76</td>\n",
       "      <td>82.000</td>\n",
       "    </tr>\n",
       "    <tr>\n",
       "      <th>3</th>\n",
       "      <td>77</td>\n",
       "      <td>2.400</td>\n",
       "    </tr>\n",
       "    <tr>\n",
       "      <th>4</th>\n",
       "      <td>99</td>\n",
       "      <td>167.600</td>\n",
       "    </tr>\n",
       "  </tbody>\n",
       "</table>\n",
       "</div>"
      ],
      "text/plain": [
       "   bus_id  electrical_capacity_wind\n",
       "0      67                     6.325\n",
       "1      72                    84.300\n",
       "2      76                    82.000\n",
       "3      77                     2.400\n",
       "4      99                   167.600"
      ]
     },
     "execution_count": 27,
     "metadata": {},
     "output_type": "execute_result"
    }
   ],
   "source": [
    "df_bus_capacity_wind.head()"
   ]
  },
  {
   "cell_type": "code",
   "execution_count": 28,
   "metadata": {},
   "outputs": [
    {
     "data": {
      "text/html": [
       "<div>\n",
       "<style>\n",
       "    .dataframe thead tr:only-child th {\n",
       "        text-align: right;\n",
       "    }\n",
       "\n",
       "    .dataframe thead th {\n",
       "        text-align: left;\n",
       "    }\n",
       "\n",
       "    .dataframe tbody tr th {\n",
       "        vertical-align: top;\n",
       "    }\n",
       "</style>\n",
       "<table border=\"1\" class=\"dataframe\">\n",
       "  <thead>\n",
       "    <tr style=\"text-align: right;\">\n",
       "      <th></th>\n",
       "      <th>bus_id</th>\n",
       "      <th>station_id</th>\n",
       "      <th>voltage</th>\n",
       "      <th>dc</th>\n",
       "      <th>symbol</th>\n",
       "      <th>lon</th>\n",
       "      <th>lat</th>\n",
       "      <th>electrical_capacity_solar</th>\n",
       "    </tr>\n",
       "  </thead>\n",
       "  <tbody>\n",
       "    <tr>\n",
       "      <th>0</th>\n",
       "      <td>1</td>\n",
       "      <td>2</td>\n",
       "      <td>380.0</td>\n",
       "      <td>f</td>\n",
       "      <td>Substation</td>\n",
       "      <td>43.714600</td>\n",
       "      <td>36.129002</td>\n",
       "      <td>225.12687</td>\n",
       "    </tr>\n",
       "    <tr>\n",
       "      <th>1</th>\n",
       "      <td>2</td>\n",
       "      <td>3</td>\n",
       "      <td>380.0</td>\n",
       "      <td>f</td>\n",
       "      <td>Substation</td>\n",
       "      <td>43.967285</td>\n",
       "      <td>35.460670</td>\n",
       "      <td>0.00000</td>\n",
       "    </tr>\n",
       "    <tr>\n",
       "      <th>2</th>\n",
       "      <td>3</td>\n",
       "      <td>4</td>\n",
       "      <td>380.0</td>\n",
       "      <td>f</td>\n",
       "      <td>Substation</td>\n",
       "      <td>44.813232</td>\n",
       "      <td>31.456782</td>\n",
       "      <td>0.00000</td>\n",
       "    </tr>\n",
       "    <tr>\n",
       "      <th>3</th>\n",
       "      <td>4</td>\n",
       "      <td>5</td>\n",
       "      <td>380.0</td>\n",
       "      <td>f</td>\n",
       "      <td>Substation</td>\n",
       "      <td>43.967285</td>\n",
       "      <td>32.184911</td>\n",
       "      <td>0.00000</td>\n",
       "    </tr>\n",
       "    <tr>\n",
       "      <th>4</th>\n",
       "      <td>5</td>\n",
       "      <td>6</td>\n",
       "      <td>380.0</td>\n",
       "      <td>f</td>\n",
       "      <td>Substation</td>\n",
       "      <td>44.011230</td>\n",
       "      <td>32.704111</td>\n",
       "      <td>0.00000</td>\n",
       "    </tr>\n",
       "  </tbody>\n",
       "</table>\n",
       "</div>"
      ],
      "text/plain": [
       "   bus_id  station_id  voltage dc      symbol        lon        lat  \\\n",
       "0       1           2    380.0  f  Substation  43.714600  36.129002   \n",
       "1       2           3    380.0  f  Substation  43.967285  35.460670   \n",
       "2       3           4    380.0  f  Substation  44.813232  31.456782   \n",
       "3       4           5    380.0  f  Substation  43.967285  32.184911   \n",
       "4       5           6    380.0  f  Substation  44.011230  32.704111   \n",
       "\n",
       "   electrical_capacity_solar  \n",
       "0                  225.12687  \n",
       "1                    0.00000  \n",
       "2                    0.00000  \n",
       "3                    0.00000  \n",
       "4                    0.00000  "
      ]
     },
     "execution_count": 28,
     "metadata": {},
     "output_type": "execute_result"
    }
   ],
   "source": [
    "buses_merged = buses.merge(df_bus_capacity_solar, how='left', on='bus_id').fillna(value=0.)\n",
    "buses_merged.head()"
   ]
  },
  {
   "cell_type": "code",
   "execution_count": 29,
   "metadata": {},
   "outputs": [
    {
     "data": {
      "text/html": [
       "<div>\n",
       "<style>\n",
       "    .dataframe thead tr:only-child th {\n",
       "        text-align: right;\n",
       "    }\n",
       "\n",
       "    .dataframe thead th {\n",
       "        text-align: left;\n",
       "    }\n",
       "\n",
       "    .dataframe tbody tr th {\n",
       "        vertical-align: top;\n",
       "    }\n",
       "</style>\n",
       "<table border=\"1\" class=\"dataframe\">\n",
       "  <thead>\n",
       "    <tr style=\"text-align: right;\">\n",
       "      <th></th>\n",
       "      <th>bus_id</th>\n",
       "      <th>station_id</th>\n",
       "      <th>voltage</th>\n",
       "      <th>dc</th>\n",
       "      <th>symbol</th>\n",
       "      <th>lon</th>\n",
       "      <th>lat</th>\n",
       "      <th>electrical_capacity_solar</th>\n",
       "      <th>electrical_capacity_wind</th>\n",
       "    </tr>\n",
       "  </thead>\n",
       "  <tbody>\n",
       "    <tr>\n",
       "      <th>0</th>\n",
       "      <td>1</td>\n",
       "      <td>2</td>\n",
       "      <td>380.0</td>\n",
       "      <td>f</td>\n",
       "      <td>Substation</td>\n",
       "      <td>43.714600</td>\n",
       "      <td>36.129002</td>\n",
       "      <td>225.12687</td>\n",
       "      <td>0.0</td>\n",
       "    </tr>\n",
       "    <tr>\n",
       "      <th>1</th>\n",
       "      <td>2</td>\n",
       "      <td>3</td>\n",
       "      <td>380.0</td>\n",
       "      <td>f</td>\n",
       "      <td>Substation</td>\n",
       "      <td>43.967285</td>\n",
       "      <td>35.460670</td>\n",
       "      <td>0.00000</td>\n",
       "      <td>0.0</td>\n",
       "    </tr>\n",
       "    <tr>\n",
       "      <th>2</th>\n",
       "      <td>3</td>\n",
       "      <td>4</td>\n",
       "      <td>380.0</td>\n",
       "      <td>f</td>\n",
       "      <td>Substation</td>\n",
       "      <td>44.813232</td>\n",
       "      <td>31.456782</td>\n",
       "      <td>0.00000</td>\n",
       "      <td>0.0</td>\n",
       "    </tr>\n",
       "    <tr>\n",
       "      <th>3</th>\n",
       "      <td>4</td>\n",
       "      <td>5</td>\n",
       "      <td>380.0</td>\n",
       "      <td>f</td>\n",
       "      <td>Substation</td>\n",
       "      <td>43.967285</td>\n",
       "      <td>32.184911</td>\n",
       "      <td>0.00000</td>\n",
       "      <td>0.0</td>\n",
       "    </tr>\n",
       "    <tr>\n",
       "      <th>4</th>\n",
       "      <td>5</td>\n",
       "      <td>6</td>\n",
       "      <td>380.0</td>\n",
       "      <td>f</td>\n",
       "      <td>Substation</td>\n",
       "      <td>44.011230</td>\n",
       "      <td>32.704111</td>\n",
       "      <td>0.00000</td>\n",
       "      <td>0.0</td>\n",
       "    </tr>\n",
       "  </tbody>\n",
       "</table>\n",
       "</div>"
      ],
      "text/plain": [
       "   bus_id  station_id  voltage dc      symbol        lon        lat  \\\n",
       "0       1           2    380.0  f  Substation  43.714600  36.129002   \n",
       "1       2           3    380.0  f  Substation  43.967285  35.460670   \n",
       "2       3           4    380.0  f  Substation  44.813232  31.456782   \n",
       "3       4           5    380.0  f  Substation  43.967285  32.184911   \n",
       "4       5           6    380.0  f  Substation  44.011230  32.704111   \n",
       "\n",
       "   electrical_capacity_solar  electrical_capacity_wind  \n",
       "0                  225.12687                       0.0  \n",
       "1                    0.00000                       0.0  \n",
       "2                    0.00000                       0.0  \n",
       "3                    0.00000                       0.0  \n",
       "4                    0.00000                       0.0  "
      ]
     },
     "execution_count": 29,
     "metadata": {},
     "output_type": "execute_result"
    }
   ],
   "source": [
    "buses_merged = buses_merged.merge(df_bus_capacity_wind, how='left', on='bus_id').fillna(value=0.)\n",
    "buses_merged.head()"
   ]
  },
  {
   "cell_type": "code",
   "execution_count": 30,
   "metadata": {
    "collapsed": true
   },
   "outputs": [],
   "source": [
    "buses_merged.to_csv('buses_formatted_with_capacity.csv')"
   ]
  },
  {
   "cell_type": "code",
   "execution_count": 31,
   "metadata": {},
   "outputs": [
    {
     "ename": "NameError",
     "evalue": "name 'df_bus_capacity' is not defined",
     "output_type": "error",
     "traceback": [
      "\u001b[1;31m---------------------------------------------------------------------------\u001b[0m",
      "\u001b[1;31mNameError\u001b[0m                                 Traceback (most recent call last)",
      "\u001b[1;32m<ipython-input-31-7b3fd20ce4dc>\u001b[0m in \u001b[0;36m<module>\u001b[1;34m()\u001b[0m\n\u001b[0;32m      1\u001b[0m \u001b[0mlimit_capa\u001b[0m \u001b[1;33m=\u001b[0m \u001b[1;36m4000\u001b[0m\u001b[1;33m\u001b[0m\u001b[0m\n\u001b[0;32m      2\u001b[0m print('Number of points under {0} MW : {1}'\n\u001b[1;32m----> 3\u001b[1;33m       .format(limit_capa,df_bus_capacity.electrical_capacity[df_bus_capacity.electrical_capacity <= limit_capa].count()))\n\u001b[0m\u001b[0;32m      4\u001b[0m print('Number of points above {0} MW : {1}'\n\u001b[0;32m      5\u001b[0m       .format(limit_capa,df_bus_capacity.electrical_capacity[df_bus_capacity.electrical_capacity > limit_capa].count()))\n",
      "\u001b[1;31mNameError\u001b[0m: name 'df_bus_capacity' is not defined"
     ]
    }
   ],
   "source": [
    "# limit_capa = 4000\n",
    "# print('Number of points under {0} MW : {1}'\n",
    "#       .format(limit_capa,df_bus_capacity.electrical_capacity[df_bus_capacity.electrical_capacity <= limit_capa].count()))\n",
    "# print('Number of points above {0} MW : {1}'\n",
    "#       .format(limit_capa,df_bus_capacity.electrical_capacity[df_bus_capacity.electrical_capacity > limit_capa].count()))\n",
    "\n",
    "# sns.distplot(df_bus_capacity.electrical_capacity[df_bus_capacity.electrical_capacity <= limit_capa])\n",
    "# sns.plt.title('Repartition of the electrical capacity by bus')\n",
    "# sns.plt.xlabel('Electrical capacity in MW')\n",
    "# sns.plt.ylabel('Density')"
   ]
  },
  {
   "cell_type": "code",
   "execution_count": null,
   "metadata": {
    "collapsed": true
   },
   "outputs": [],
   "source": []
  }
 ],
 "metadata": {
  "kernelspec": {
   "display_name": "Python 3",
   "language": "python",
   "name": "python3"
  },
  "language_info": {
   "codemirror_mode": {
    "name": "ipython",
    "version": 3
   },
   "file_extension": ".py",
   "mimetype": "text/x-python",
   "name": "python",
   "nbconvert_exporter": "python",
   "pygments_lexer": "ipython3",
   "version": "3.6.1"
  }
 },
 "nbformat": 4,
 "nbformat_minor": 2
}
