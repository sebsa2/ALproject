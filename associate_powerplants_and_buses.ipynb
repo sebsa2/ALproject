{
 "cells": [
  {
   "cell_type": "code",
   "execution_count": 3,
   "metadata": {
    "collapsed": true
   },
   "outputs": [],
   "source": [
    "import numpy as np\n",
    "import pandas as pd\n",
    "import os"
   ]
  },
  {
   "cell_type": "code",
   "execution_count": 4,
   "metadata": {},
   "outputs": [
    {
     "name": "stdout",
     "output_type": "stream",
     "text": [
      "C:\\Users\\sebsa\\Documents\\Centrale Paris\\3A\\OEN\\Projet Synthèse\\data\n"
     ]
    }
   ],
   "source": [
    "%cd C:\\\\Users\\\\sebsa\\\\Documents\\\\Centrale Paris\\\\3A\\\\OEN\\\\Projet Synthèse\\\\data"
   ]
  },
  {
   "cell_type": "markdown",
   "metadata": {},
   "source": [
    "## Read and format data"
   ]
  },
  {
   "cell_type": "markdown",
   "metadata": {},
   "source": [
    "### Power Plants"
   ]
  },
  {
   "cell_type": "code",
   "execution_count": 9,
   "metadata": {},
   "outputs": [
    {
     "data": {
      "text/plain": [
       "['CH_solar_filtered_1.csv',\n",
       " 'DE_solar_filtered_1.csv',\n",
       " 'DK_solar_filtered_1.csv',\n",
       " 'FR_solar_filtered_1.csv',\n",
       " 'PL_solar_filtered_1.csv',\n",
       " 'randm_gen']"
      ]
     },
     "execution_count": 9,
     "metadata": {},
     "output_type": "execute_result"
    }
   ],
   "source": [
    "path = 'installed_capacity/Solar/'\n",
    "files_powerplants = os.listdir(path)"
   ]
  },
  {
   "cell_type": "markdown",
   "metadata": {},
   "source": [
    "## Associate"
   ]
  },
  {
   "cell_type": "code",
   "execution_count": 10,
   "metadata": {},
   "outputs": [
    {
     "name": "stdout",
     "output_type": "stream",
     "text": [
      "{'lat': 39.7612992, 'lon': -86.1519681}\n"
     ]
    }
   ],
   "source": [
    "from math import cos, asin, sqrt\n",
    "\n",
    "def distance(lat1, lon1, lat2, lon2):\n",
    "    p = 0.017453292519943295\n",
    "    a = 0.5 - cos((lat2-lat1)*p)/2 + cos(lat1*p)*cos(lat2*p) * (1-cos((lon2-lon1)*p)) / 2\n",
    "    return 12742 * asin(sqrt(a))\n",
    "\n",
    "def closest(data, v):\n",
    "    return min(data, key=lambda p: distance(v['lat'],v['lon'],p['lat'],p['lon']))\n",
    "\n",
    "tempDataList = [{'lat': 39.7612992, 'lon': -86.1519681}, \n",
    "                {'lat': 39.762241,  'lon': -86.158436 }, \n",
    "                {'lat': 39.7622292, 'lon': -86.1578917}]\n",
    "\n",
    "v = {'lat': 39.7622290, 'lon': -86.1519750}\n",
    "print(closest(tempDataList, v))"
   ]
  }
 ],
 "metadata": {
  "kernelspec": {
   "display_name": "Python 3",
   "language": "python",
   "name": "python3"
  },
  "language_info": {
   "codemirror_mode": {
    "name": "ipython",
    "version": 3
   },
   "file_extension": ".py",
   "mimetype": "text/x-python",
   "name": "python",
   "nbconvert_exporter": "python",
   "pygments_lexer": "ipython3",
   "version": "3.6.1"
  }
 },
 "nbformat": 4,
 "nbformat_minor": 2
}
