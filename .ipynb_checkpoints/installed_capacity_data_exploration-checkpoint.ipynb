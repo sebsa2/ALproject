{
 "cells": [
  {
   "cell_type": "code",
   "execution_count": 1,
   "metadata": {
    "collapsed": true
   },
   "outputs": [],
   "source": [
    "import pandas as pd \n",
    "import numpy as np\n",
    "import matplotlib.pyplot as plt\n",
    "\n",
    "%matplotlib inline"
   ]
  },
  {
   "cell_type": "code",
   "execution_count": 2,
   "metadata": {},
   "outputs": [
    {
     "name": "stdout",
     "output_type": "stream",
     "text": [
      "C:\\Users\\sebsa\\Documents\\Centrale Paris\\3A\\OEN\\Projet Synthèse\\data\n"
     ]
    }
   ],
   "source": [
    "%cd C:\\\\Users\\\\sebsa\\\\Documents\\\\Centrale Paris\\\\3A\\\\OEN\\\\Projet Synthèse\\\\data"
   ]
  },
  {
   "cell_type": "code",
   "execution_count": 42,
   "metadata": {},
   "outputs": [],
   "source": [
    "def filter_dataset(dataset):\n",
    "    \n",
    "    solar = dataset[dataset.energy_source_level_2.isin(['Solar'])]\n",
    "    if 'comment' in dataset.columns:\n",
    "        solar = solar[solar.comment.isnull()]\n",
    "    solar.reset_index(inplace=True)\n",
    "    solar.drop('index', axis=1, inplace=True)\n",
    "        \n",
    "    return solar"
   ]
  },
  {
   "cell_type": "code",
   "execution_count": 4,
   "metadata": {},
   "outputs": [
    {
     "name": "stderr",
     "output_type": "stream",
     "text": [
      "C:\\Anaconda\\lib\\site-packages\\IPython\\core\\interactiveshell.py:2717: DtypeWarning: Columns (0,1,9,16) have mixed types. Specify dtype option on import or set low_memory=False.\n",
      "  interactivity=interactivity, compiler=compiler, result=result)\n"
     ]
    }
   ],
   "source": [
    "CH = pd.read_csv('installed_capacity/ch_de_dk_fr_pl/renewable_power_plants_CH.csv')\n",
    "DE = pd.read_csv('installed_capacity/ch_de_dk_fr_pl/renewable_power_plants_DE.csv')\n",
    "DK = pd.read_csv('installed_capacity/ch_de_dk_fr_pl/renewable_power_plants_DK.csv')\n",
    "FR = pd.read_csv('installed_capacity/ch_de_dk_fr_pl/renewable_power_plants_FR.csv')\n",
    "PL = pd.read_csv('installed_capacity/ch_de_dk_fr_pl/renewable_power_plants_PL.csv')"
   ]
  },
  {
   "cell_type": "markdown",
   "metadata": {},
   "source": [
    "## Create filtered solar dataset"
   ]
  },
  {
   "cell_type": "code",
   "execution_count": 43,
   "metadata": {},
   "outputs": [
    {
     "name": "stderr",
     "output_type": "stream",
     "text": [
      "C:\\Anaconda\\lib\\site-packages\\ipykernel_launcher.py:7: SettingWithCopyWarning: \n",
      "A value is trying to be set on a copy of a slice from a DataFrame\n",
      "\n",
      "See the caveats in the documentation: http://pandas.pydata.org/pandas-docs/stable/indexing.html#indexing-view-versus-copy\n",
      "  import sys\n"
     ]
    }
   ],
   "source": [
    "CH_solar_filtered = filter_dataset(CH)\n",
    "DE_solar_filtered = filter_dataset(DE)\n",
    "DK_solar_filtered = filter_dataset(DK)\n",
    "FR_solar_filtered = filter_dataset(FR)\n",
    "PL_solar_filtered = filter_dataset(PL)"
   ]
  },
  {
   "cell_type": "code",
   "execution_count": null,
   "metadata": {
    "collapsed": true
   },
   "outputs": [],
   "source": [
    "CH_solar_filtered.to_csv('Solar/CH_solar_filtered.csv', sep=';')\n",
    "DE_solar_filtered.to_csv('Solar/DE_solar_filtered.csv', sep=';')\n",
    "DK_solar_filtered.to_csv('Solar/DK_solar_filtered.csv', sep=';')\n",
    "FR_solar_filtered.to_csv('Solar/FR_solar_filtered.csv', sep=';')\n",
    "PL_solar_filtered.to_csv('Solar/PL_solar_filtered.csv', sep=';')"
   ]
  },
  {
   "cell_type": "markdown",
   "metadata": {},
   "source": [
    "## Electrical capacity verification"
   ]
  },
  {
   "cell_type": "code",
   "execution_count": null,
   "metadata": {},
   "outputs": [],
   "source": [
    "DE.columns"
   ]
  },
  {
   "cell_type": "code",
   "execution_count": null,
   "metadata": {},
   "outputs": [],
   "source": [
    "DE.energy_source_level_2.unique()"
   ]
  },
  {
   "cell_type": "code",
   "execution_count": null,
   "metadata": {},
   "outputs": [],
   "source": [
    "DE_solar = DE[DE.energy_source_level_2.isin(['Solar'])]\n",
    "DE_solar.head()"
   ]
  },
  {
   "cell_type": "code",
   "execution_count": null,
   "metadata": {},
   "outputs": [],
   "source": [
    "DE_solar.electrical_capacity.sum()"
   ]
  },
  {
   "cell_type": "code",
   "execution_count": null,
   "metadata": {},
   "outputs": [],
   "source": [
    "FR_solar = FR[FR.energy_source_level_2.isin(['Solar'])]\n",
    "FR_solar.head()"
   ]
  },
  {
   "cell_type": "code",
   "execution_count": null,
   "metadata": {},
   "outputs": [],
   "source": [
    "FR_solar.electrical_capacity.sum()"
   ]
  },
  {
   "cell_type": "code",
   "execution_count": null,
   "metadata": {},
   "outputs": [],
   "source": [
    "CH_solar = CH[CH.energy_source_level_2.isin(['Solar'])]\n",
    "CH_solar.electrical_capacity.sum()"
   ]
  },
  {
   "cell_type": "code",
   "execution_count": null,
   "metadata": {},
   "outputs": [],
   "source": [
    "DK_solar = DK[DK.energy_source_level_2.isin(['Solar'])]\n",
    "DK_solar.electrical_capacity.sum()"
   ]
  },
  {
   "cell_type": "code",
   "execution_count": null,
   "metadata": {},
   "outputs": [],
   "source": [
    "PL_solar = PL[PL.energy_source_level_2.isin(['Solar'])]\n",
    "PL_solar.electrical_capacity.sum()"
   ]
  },
  {
   "cell_type": "code",
   "execution_count": null,
   "metadata": {},
   "outputs": [],
   "source": [
    "DE_solar[DE_solar.comment.isnull()].electrical_capacity.sum()"
   ]
  },
  {
   "cell_type": "code",
   "execution_count": null,
   "metadata": {
    "collapsed": true
   },
   "outputs": [],
   "source": []
  }
 ],
 "metadata": {
  "kernelspec": {
   "display_name": "Python 3",
   "language": "python",
   "name": "python3"
  },
  "language_info": {
   "codemirror_mode": {
    "name": "ipython",
    "version": 3
   },
   "file_extension": ".py",
   "mimetype": "text/x-python",
   "name": "python",
   "nbconvert_exporter": "python",
   "pygments_lexer": "ipython3",
   "version": "3.6.1"
  }
 },
 "nbformat": 4,
 "nbformat_minor": 2
}
