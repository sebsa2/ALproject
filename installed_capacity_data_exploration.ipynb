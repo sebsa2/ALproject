{
 "cells": [
  {
   "cell_type": "code",
   "execution_count": 1,
   "metadata": {
    "collapsed": true
   },
   "outputs": [],
   "source": [
    "import pandas as pd \n",
    "import numpy as np\n",
    "import matplotlib.pyplot as plt\n",
    "\n",
    "%matplotlib inline"
   ]
  },
  {
   "cell_type": "code",
   "execution_count": 2,
   "metadata": {},
   "outputs": [
    {
     "name": "stdout",
     "output_type": "stream",
     "text": [
      "C:\\Users\\sebsa\\Documents\\Centrale Paris\\3A\\OEN\\Projet Synthèse\\data\n"
     ]
    }
   ],
   "source": [
    "%cd C:\\\\Users\\\\sebsa\\\\Documents\\\\Centrale Paris\\\\3A\\\\OEN\\\\Projet Synthèse\\\\data"
   ]
  },
  {
   "cell_type": "code",
   "execution_count": 3,
   "metadata": {},
   "outputs": [],
   "source": [
    "def filter_dataset(dataset):\n",
    "    \n",
    "    solar = dataset[dataset.energy_source_level_2.isin(['Solar'])]\n",
    "    if 'comment' in dataset.columns:\n",
    "        solar = solar[solar.comment.isnull()]\n",
    "    solar.reset_index(inplace=True)\n",
    "    solar.drop('index', axis=1, inplace=True)\n",
    "        \n",
    "    return solar"
   ]
  },
  {
   "cell_type": "code",
   "execution_count": 4,
   "metadata": {},
   "outputs": [
    {
     "name": "stderr",
     "output_type": "stream",
     "text": [
      "C:\\Anaconda\\lib\\site-packages\\IPython\\core\\interactiveshell.py:2717: DtypeWarning: Columns (0,1,9,16) have mixed types. Specify dtype option on import or set low_memory=False.\n",
      "  interactivity=interactivity, compiler=compiler, result=result)\n"
     ]
    }
   ],
   "source": [
    "CH = pd.read_csv('installed_capacity/ch_de_dk_fr_pl/renewable_power_plants_CH.csv')\n",
    "DE = pd.read_csv('installed_capacity/ch_de_dk_fr_pl/renewable_power_plants_DE.csv')\n",
    "DK = pd.read_csv('installed_capacity/ch_de_dk_fr_pl/renewable_power_plants_DK.csv')\n",
    "FR = pd.read_csv('installed_capacity/ch_de_dk_fr_pl/renewable_power_plants_FR.csv')\n",
    "PL = pd.read_csv('installed_capacity/ch_de_dk_fr_pl/renewable_power_plants_PL.csv')"
   ]
  },
  {
   "cell_type": "markdown",
   "metadata": {},
   "source": [
    "## Create filtered solar dataset"
   ]
  },
  {
   "cell_type": "code",
   "execution_count": 5,
   "metadata": {},
   "outputs": [
    {
     "name": "stderr",
     "output_type": "stream",
     "text": [
      "C:\\Anaconda\\lib\\site-packages\\ipykernel_launcher.py:7: SettingWithCopyWarning: \n",
      "A value is trying to be set on a copy of a slice from a DataFrame\n",
      "\n",
      "See the caveats in the documentation: http://pandas.pydata.org/pandas-docs/stable/indexing.html#indexing-view-versus-copy\n",
      "  import sys\n"
     ]
    }
   ],
   "source": [
    "CH_solar_filtered = filter_dataset(CH)\n",
    "DE_solar_filtered = filter_dataset(DE)\n",
    "DK_solar_filtered = filter_dataset(DK)\n",
    "FR_solar_filtered = filter_dataset(FR)\n",
    "PL_solar_filtered = filter_dataset(PL)"
   ]
  },
  {
   "cell_type": "code",
   "execution_count": 8,
   "metadata": {},
   "outputs": [],
   "source": [
    "CH_solar_filtered.to_csv('installed_capacity/Solar/CH_solar_filtered.csv', sep=';')\n",
    "DE_solar_filtered.to_csv('installed_capacity/Solar/DE_solar_filtered.csv', sep=';')\n",
    "DK_solar_filtered.to_csv('installed_capacity/Solar/DK_solar_filtered.csv', sep=';')\n",
    "FR_solar_filtered.to_csv('installed_capacity/Solar/FR_solar_filtered.csv', sep=';')\n",
    "PL_solar_filtered.to_csv('installed_capacity/Solar/PL_solar_filtered.csv', sep=';')"
   ]
  },
  {
   "cell_type": "markdown",
   "metadata": {},
   "source": [
    "## Electrical capacity verification"
   ]
  },
  {
   "cell_type": "code",
   "execution_count": 9,
   "metadata": {},
   "outputs": [
    {
     "data": {
      "text/plain": [
       "Index(['commissioning_date', 'decommissioning_date', 'energy_source_level_1',\n",
       "       'energy_source_level_2', 'energy_source_level_3', 'technology',\n",
       "       'electrical_capacity', 'thermal_capacity', 'voltage_level', 'tso',\n",
       "       'dso', 'dso_id', 'eeg_id', 'bnetza_id', 'federal_state', 'postcode',\n",
       "       'municipality_code', 'municipality', 'address', 'address_number',\n",
       "       'utm_zone', 'utm_east', 'utm_north', 'lat', 'lon', 'data_source',\n",
       "       'comment'],\n",
       "      dtype='object')"
      ]
     },
     "execution_count": 9,
     "metadata": {},
     "output_type": "execute_result"
    }
   ],
   "source": [
    "DE.columns"
   ]
  },
  {
   "cell_type": "code",
   "execution_count": 10,
   "metadata": {},
   "outputs": [
    {
     "data": {
      "text/plain": [
       "array(['Hydro', 'Bioenergy', 'Wind', 'Solar', 'Other fossil fuels',\n",
       "       'Geothermal', 'Speicher', nan], dtype=object)"
      ]
     },
     "execution_count": 10,
     "metadata": {},
     "output_type": "execute_result"
    }
   ],
   "source": [
    "DE.energy_source_level_2.unique()"
   ]
  },
  {
   "cell_type": "code",
   "execution_count": 11,
   "metadata": {},
   "outputs": [
    {
     "data": {
      "text/html": [
       "<div>\n",
       "<style>\n",
       "    .dataframe thead tr:only-child th {\n",
       "        text-align: right;\n",
       "    }\n",
       "\n",
       "    .dataframe thead th {\n",
       "        text-align: left;\n",
       "    }\n",
       "\n",
       "    .dataframe tbody tr th {\n",
       "        vertical-align: top;\n",
       "    }\n",
       "</style>\n",
       "<table border=\"1\" class=\"dataframe\">\n",
       "  <thead>\n",
       "    <tr style=\"text-align: right;\">\n",
       "      <th></th>\n",
       "      <th>commissioning_date</th>\n",
       "      <th>decommissioning_date</th>\n",
       "      <th>energy_source_level_1</th>\n",
       "      <th>energy_source_level_2</th>\n",
       "      <th>energy_source_level_3</th>\n",
       "      <th>technology</th>\n",
       "      <th>electrical_capacity</th>\n",
       "      <th>thermal_capacity</th>\n",
       "      <th>voltage_level</th>\n",
       "      <th>tso</th>\n",
       "      <th>...</th>\n",
       "      <th>municipality</th>\n",
       "      <th>address</th>\n",
       "      <th>address_number</th>\n",
       "      <th>utm_zone</th>\n",
       "      <th>utm_east</th>\n",
       "      <th>utm_north</th>\n",
       "      <th>lat</th>\n",
       "      <th>lon</th>\n",
       "      <th>data_source</th>\n",
       "      <th>comment</th>\n",
       "    </tr>\n",
       "  </thead>\n",
       "  <tbody>\n",
       "    <tr>\n",
       "      <th>1855</th>\n",
       "      <td>1984-05-01</td>\n",
       "      <td>NaN</td>\n",
       "      <td>Renewable energy</td>\n",
       "      <td>Solar</td>\n",
       "      <td>NaN</td>\n",
       "      <td>Photovoltaics</td>\n",
       "      <td>0.00140</td>\n",
       "      <td>NaN</td>\n",
       "      <td>Low voltage</td>\n",
       "      <td>TransnetBW</td>\n",
       "      <td>...</td>\n",
       "      <td>NaN</td>\n",
       "      <td>NaN</td>\n",
       "      <td>NaN</td>\n",
       "      <td>NaN</td>\n",
       "      <td>NaN</td>\n",
       "      <td>NaN</td>\n",
       "      <td>48.52776</td>\n",
       "      <td>9.04806</td>\n",
       "      <td>TransnetBW</td>\n",
       "      <td>NaN</td>\n",
       "    </tr>\n",
       "    <tr>\n",
       "      <th>1893</th>\n",
       "      <td>1985-06-01</td>\n",
       "      <td>NaN</td>\n",
       "      <td>Renewable energy</td>\n",
       "      <td>Solar</td>\n",
       "      <td>NaN</td>\n",
       "      <td>Photovoltaics</td>\n",
       "      <td>0.00237</td>\n",
       "      <td>NaN</td>\n",
       "      <td>Low voltage</td>\n",
       "      <td>TransnetBW</td>\n",
       "      <td>...</td>\n",
       "      <td>NaN</td>\n",
       "      <td>NaN</td>\n",
       "      <td>NaN</td>\n",
       "      <td>NaN</td>\n",
       "      <td>NaN</td>\n",
       "      <td>NaN</td>\n",
       "      <td>48.52776</td>\n",
       "      <td>9.04806</td>\n",
       "      <td>TransnetBW</td>\n",
       "      <td>NaN</td>\n",
       "    </tr>\n",
       "    <tr>\n",
       "      <th>1897</th>\n",
       "      <td>1985-07-01</td>\n",
       "      <td>NaN</td>\n",
       "      <td>Renewable energy</td>\n",
       "      <td>Solar</td>\n",
       "      <td>NaN</td>\n",
       "      <td>Photovoltaics</td>\n",
       "      <td>0.00120</td>\n",
       "      <td>NaN</td>\n",
       "      <td>Low voltage</td>\n",
       "      <td>TenneT</td>\n",
       "      <td>...</td>\n",
       "      <td>NaN</td>\n",
       "      <td>NaN</td>\n",
       "      <td>NaN</td>\n",
       "      <td>NaN</td>\n",
       "      <td>NaN</td>\n",
       "      <td>NaN</td>\n",
       "      <td>51.24681</td>\n",
       "      <td>9.49312</td>\n",
       "      <td>TenneT</td>\n",
       "      <td>NaN</td>\n",
       "    </tr>\n",
       "    <tr>\n",
       "      <th>1928</th>\n",
       "      <td>1986-05-01</td>\n",
       "      <td>NaN</td>\n",
       "      <td>Renewable energy</td>\n",
       "      <td>Solar</td>\n",
       "      <td>NaN</td>\n",
       "      <td>Photovoltaics</td>\n",
       "      <td>0.00380</td>\n",
       "      <td>NaN</td>\n",
       "      <td>Low voltage</td>\n",
       "      <td>TransnetBW</td>\n",
       "      <td>...</td>\n",
       "      <td>NaN</td>\n",
       "      <td>NaN</td>\n",
       "      <td>NaN</td>\n",
       "      <td>NaN</td>\n",
       "      <td>NaN</td>\n",
       "      <td>NaN</td>\n",
       "      <td>48.52776</td>\n",
       "      <td>9.04806</td>\n",
       "      <td>TransnetBW</td>\n",
       "      <td>NaN</td>\n",
       "    </tr>\n",
       "    <tr>\n",
       "      <th>1929</th>\n",
       "      <td>1986-06-01</td>\n",
       "      <td>NaN</td>\n",
       "      <td>Renewable energy</td>\n",
       "      <td>Solar</td>\n",
       "      <td>NaN</td>\n",
       "      <td>Photovoltaics</td>\n",
       "      <td>0.00310</td>\n",
       "      <td>NaN</td>\n",
       "      <td>Low voltage</td>\n",
       "      <td>TransnetBW</td>\n",
       "      <td>...</td>\n",
       "      <td>NaN</td>\n",
       "      <td>NaN</td>\n",
       "      <td>NaN</td>\n",
       "      <td>NaN</td>\n",
       "      <td>NaN</td>\n",
       "      <td>NaN</td>\n",
       "      <td>48.52776</td>\n",
       "      <td>9.04806</td>\n",
       "      <td>TransnetBW</td>\n",
       "      <td>NaN</td>\n",
       "    </tr>\n",
       "  </tbody>\n",
       "</table>\n",
       "<p>5 rows × 27 columns</p>\n",
       "</div>"
      ],
      "text/plain": [
       "     commissioning_date decommissioning_date energy_source_level_1  \\\n",
       "1855         1984-05-01                  NaN      Renewable energy   \n",
       "1893         1985-06-01                  NaN      Renewable energy   \n",
       "1897         1985-07-01                  NaN      Renewable energy   \n",
       "1928         1986-05-01                  NaN      Renewable energy   \n",
       "1929         1986-06-01                  NaN      Renewable energy   \n",
       "\n",
       "     energy_source_level_2 energy_source_level_3     technology  \\\n",
       "1855                 Solar                   NaN  Photovoltaics   \n",
       "1893                 Solar                   NaN  Photovoltaics   \n",
       "1897                 Solar                   NaN  Photovoltaics   \n",
       "1928                 Solar                   NaN  Photovoltaics   \n",
       "1929                 Solar                   NaN  Photovoltaics   \n",
       "\n",
       "      electrical_capacity  thermal_capacity voltage_level         tso   ...    \\\n",
       "1855              0.00140               NaN   Low voltage  TransnetBW   ...     \n",
       "1893              0.00237               NaN   Low voltage  TransnetBW   ...     \n",
       "1897              0.00120               NaN   Low voltage      TenneT   ...     \n",
       "1928              0.00380               NaN   Low voltage  TransnetBW   ...     \n",
       "1929              0.00310               NaN   Low voltage  TransnetBW   ...     \n",
       "\n",
       "     municipality  address address_number utm_zone utm_east utm_north  \\\n",
       "1855          NaN      NaN            NaN      NaN      NaN       NaN   \n",
       "1893          NaN      NaN            NaN      NaN      NaN       NaN   \n",
       "1897          NaN      NaN            NaN      NaN      NaN       NaN   \n",
       "1928          NaN      NaN            NaN      NaN      NaN       NaN   \n",
       "1929          NaN      NaN            NaN      NaN      NaN       NaN   \n",
       "\n",
       "           lat      lon data_source comment  \n",
       "1855  48.52776  9.04806  TransnetBW     NaN  \n",
       "1893  48.52776  9.04806  TransnetBW     NaN  \n",
       "1897  51.24681  9.49312      TenneT     NaN  \n",
       "1928  48.52776  9.04806  TransnetBW     NaN  \n",
       "1929  48.52776  9.04806  TransnetBW     NaN  \n",
       "\n",
       "[5 rows x 27 columns]"
      ]
     },
     "execution_count": 11,
     "metadata": {},
     "output_type": "execute_result"
    }
   ],
   "source": [
    "DE_solar = DE[DE.energy_source_level_2.isin(['Solar'])]\n",
    "DE_solar.head()"
   ]
  },
  {
   "cell_type": "code",
   "execution_count": 12,
   "metadata": {},
   "outputs": [
    {
     "data": {
      "text/plain": [
       "42687.018119919674"
      ]
     },
     "execution_count": 12,
     "metadata": {},
     "output_type": "execute_result"
    }
   ],
   "source": [
    "DE_solar.electrical_capacity.sum()"
   ]
  },
  {
   "cell_type": "code",
   "execution_count": 13,
   "metadata": {},
   "outputs": [
    {
     "data": {
      "text/html": [
       "<div>\n",
       "<style>\n",
       "    .dataframe thead tr:only-child th {\n",
       "        text-align: right;\n",
       "    }\n",
       "\n",
       "    .dataframe thead th {\n",
       "        text-align: left;\n",
       "    }\n",
       "\n",
       "    .dataframe tbody tr th {\n",
       "        vertical-align: top;\n",
       "    }\n",
       "</style>\n",
       "<table border=\"1\" class=\"dataframe\">\n",
       "  <thead>\n",
       "    <tr style=\"text-align: right;\">\n",
       "      <th></th>\n",
       "      <th>municipality_code</th>\n",
       "      <th>municipality</th>\n",
       "      <th>energy_source_level_1</th>\n",
       "      <th>energy_source_level_2</th>\n",
       "      <th>energy_source_level_3</th>\n",
       "      <th>technology</th>\n",
       "      <th>electrical_capacity</th>\n",
       "      <th>number_of_installations</th>\n",
       "      <th>lat</th>\n",
       "      <th>lon</th>\n",
       "      <th>data_source</th>\n",
       "      <th>comment</th>\n",
       "    </tr>\n",
       "  </thead>\n",
       "  <tbody>\n",
       "    <tr>\n",
       "      <th>0</th>\n",
       "      <td>01001</td>\n",
       "      <td>L'Abergement-Clémenciat</td>\n",
       "      <td>Renewable energy</td>\n",
       "      <td>Solar</td>\n",
       "      <td>NaN</td>\n",
       "      <td>Photovoltaics</td>\n",
       "      <td>0.03426</td>\n",
       "      <td>10</td>\n",
       "      <td>46.15397</td>\n",
       "      <td>4.92576</td>\n",
       "      <td>Ministry for the Ecological and Inclusive Tran...</td>\n",
       "      <td>NaN</td>\n",
       "    </tr>\n",
       "    <tr>\n",
       "      <th>1</th>\n",
       "      <td>01004</td>\n",
       "      <td>Ambérieu-en-Bugey</td>\n",
       "      <td>Renewable energy</td>\n",
       "      <td>Solar</td>\n",
       "      <td>NaN</td>\n",
       "      <td>Photovoltaics</td>\n",
       "      <td>0.29599</td>\n",
       "      <td>71</td>\n",
       "      <td>45.96075</td>\n",
       "      <td>5.37218</td>\n",
       "      <td>Ministry for the Ecological and Inclusive Tran...</td>\n",
       "      <td>NaN</td>\n",
       "    </tr>\n",
       "    <tr>\n",
       "      <th>2</th>\n",
       "      <td>01005</td>\n",
       "      <td>Ambérieux-en-Dombes</td>\n",
       "      <td>Renewable energy</td>\n",
       "      <td>Solar</td>\n",
       "      <td>NaN</td>\n",
       "      <td>Photovoltaics</td>\n",
       "      <td>0.18634</td>\n",
       "      <td>18</td>\n",
       "      <td>45.99599</td>\n",
       "      <td>4.91205</td>\n",
       "      <td>Ministry for the Ecological and Inclusive Tran...</td>\n",
       "      <td>NaN</td>\n",
       "    </tr>\n",
       "    <tr>\n",
       "      <th>3</th>\n",
       "      <td>01006</td>\n",
       "      <td>Ambléon</td>\n",
       "      <td>Renewable energy</td>\n",
       "      <td>Solar</td>\n",
       "      <td>NaN</td>\n",
       "      <td>Photovoltaics</td>\n",
       "      <td>0.00300</td>\n",
       "      <td>&lt;3</td>\n",
       "      <td>45.74995</td>\n",
       "      <td>5.59477</td>\n",
       "      <td>Ministry for the Ecological and Inclusive Tran...</td>\n",
       "      <td>NaN</td>\n",
       "    </tr>\n",
       "    <tr>\n",
       "      <th>4</th>\n",
       "      <td>01007</td>\n",
       "      <td>Ambronay</td>\n",
       "      <td>Renewable energy</td>\n",
       "      <td>Solar</td>\n",
       "      <td>NaN</td>\n",
       "      <td>Photovoltaics</td>\n",
       "      <td>0.09726</td>\n",
       "      <td>33</td>\n",
       "      <td>46.00579</td>\n",
       "      <td>5.35739</td>\n",
       "      <td>Ministry for the Ecological and Inclusive Tran...</td>\n",
       "      <td>NaN</td>\n",
       "    </tr>\n",
       "  </tbody>\n",
       "</table>\n",
       "</div>"
      ],
      "text/plain": [
       "  municipality_code             municipality energy_source_level_1  \\\n",
       "0             01001  L'Abergement-Clémenciat      Renewable energy   \n",
       "1             01004        Ambérieu-en-Bugey      Renewable energy   \n",
       "2             01005      Ambérieux-en-Dombes      Renewable energy   \n",
       "3             01006                  Ambléon      Renewable energy   \n",
       "4             01007                 Ambronay      Renewable energy   \n",
       "\n",
       "  energy_source_level_2 energy_source_level_3     technology  \\\n",
       "0                 Solar                   NaN  Photovoltaics   \n",
       "1                 Solar                   NaN  Photovoltaics   \n",
       "2                 Solar                   NaN  Photovoltaics   \n",
       "3                 Solar                   NaN  Photovoltaics   \n",
       "4                 Solar                   NaN  Photovoltaics   \n",
       "\n",
       "   electrical_capacity number_of_installations       lat      lon  \\\n",
       "0              0.03426                      10  46.15397  4.92576   \n",
       "1              0.29599                      71  45.96075  5.37218   \n",
       "2              0.18634                      18  45.99599  4.91205   \n",
       "3              0.00300                      <3  45.74995  5.59477   \n",
       "4              0.09726                      33  46.00579  5.35739   \n",
       "\n",
       "                                         data_source comment  \n",
       "0  Ministry for the Ecological and Inclusive Tran...     NaN  \n",
       "1  Ministry for the Ecological and Inclusive Tran...     NaN  \n",
       "2  Ministry for the Ecological and Inclusive Tran...     NaN  \n",
       "3  Ministry for the Ecological and Inclusive Tran...     NaN  \n",
       "4  Ministry for the Ecological and Inclusive Tran...     NaN  "
      ]
     },
     "execution_count": 13,
     "metadata": {},
     "output_type": "execute_result"
    }
   ],
   "source": [
    "FR_solar = FR[FR.energy_source_level_2.isin(['Solar'])]\n",
    "FR_solar.head()"
   ]
  },
  {
   "cell_type": "code",
   "execution_count": 14,
   "metadata": {},
   "outputs": [
    {
     "data": {
      "text/plain": [
       "6515.34765999997"
      ]
     },
     "execution_count": 14,
     "metadata": {},
     "output_type": "execute_result"
    }
   ],
   "source": [
    "FR_solar.electrical_capacity.sum()"
   ]
  },
  {
   "cell_type": "code",
   "execution_count": 15,
   "metadata": {},
   "outputs": [
    {
     "data": {
      "text/plain": [
       "301.59296999999975"
      ]
     },
     "execution_count": 15,
     "metadata": {},
     "output_type": "execute_result"
    }
   ],
   "source": [
    "CH_solar = CH[CH.energy_source_level_2.isin(['Solar'])]\n",
    "CH_solar.electrical_capacity.sum()"
   ]
  },
  {
   "cell_type": "code",
   "execution_count": 16,
   "metadata": {},
   "outputs": [
    {
     "data": {
      "text/plain": [
       "792.845799999344"
      ]
     },
     "execution_count": 16,
     "metadata": {},
     "output_type": "execute_result"
    }
   ],
   "source": [
    "DK_solar = DK[DK.energy_source_level_2.isin(['Solar'])]\n",
    "DK_solar.electrical_capacity.sum()"
   ]
  },
  {
   "cell_type": "code",
   "execution_count": 17,
   "metadata": {},
   "outputs": [
    {
     "data": {
      "text/plain": [
       "198.19599999999997"
      ]
     },
     "execution_count": 17,
     "metadata": {},
     "output_type": "execute_result"
    }
   ],
   "source": [
    "PL_solar = PL[PL.energy_source_level_2.isin(['Solar'])]\n",
    "PL_solar.electrical_capacity.sum()"
   ]
  },
  {
   "cell_type": "code",
   "execution_count": 18,
   "metadata": {},
   "outputs": [
    {
     "data": {
      "text/plain": [
       "40273.52059993175"
      ]
     },
     "execution_count": 18,
     "metadata": {},
     "output_type": "execute_result"
    }
   ],
   "source": [
    "DE_solar[DE_solar.comment.isnull()].electrical_capacity.sum()"
   ]
  },
  {
   "cell_type": "code",
   "execution_count": null,
   "metadata": {
    "collapsed": true
   },
   "outputs": [],
   "source": []
  }
 ],
 "metadata": {
  "kernelspec": {
   "display_name": "Python 3",
   "language": "python",
   "name": "python3"
  },
  "language_info": {
   "codemirror_mode": {
    "name": "ipython",
    "version": 3
   },
   "file_extension": ".py",
   "mimetype": "text/x-python",
   "name": "python",
   "nbconvert_exporter": "python",
   "pygments_lexer": "ipython3",
   "version": "3.6.1"
  }
 },
 "nbformat": 4,
 "nbformat_minor": 2
}
