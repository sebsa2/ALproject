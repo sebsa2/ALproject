{
 "cells": [
  {
   "cell_type": "markdown",
   "metadata": {},
   "source": [
    "Eletrical power unit is always MW in this notebook. "
   ]
  },
  {
   "cell_type": "code",
   "execution_count": 1,
   "metadata": {
    "collapsed": true
   },
   "outputs": [],
   "source": [
    "import numpy as np\n",
    "import pandas as pd\n",
    "import matplotlib.pyplot as plt\n",
    "import seaborn as sns\n",
    "from shapely.geometry import Polygon, Point\n",
    "\n",
    "%matplotlib inline"
   ]
  },
  {
   "cell_type": "code",
   "execution_count": 5,
   "metadata": {},
   "outputs": [
    {
     "name": "stdout",
     "output_type": "stream",
     "text": [
      "C:\\Users\\sebsa\\Documents\\Centrale Paris\\3A\\OEN\\Projet Synthese\\data\n"
     ]
    }
   ],
   "source": [
    "%cd C:\\\\Users\\\\sebsa\\\\Documents\\\\Centrale Paris\\\\3A\\\\OEN\\\\Projet Synthese\\\\data"
   ]
  },
  {
   "cell_type": "code",
   "execution_count": 3,
   "metadata": {
    "collapsed": true
   },
   "outputs": [],
   "source": [
    "def random_points_within(poly, num_points):\n",
    "    min_x, min_y, max_x, max_y = poly.bounds\n",
    "\n",
    "    points = []\n",
    "\n",
    "    while len(points) < num_points:\n",
    "        random_point = Point([np.random.uniform(min_x, max_x), np.random.uniform(min_y, max_y)])\n",
    "        if (random_point.within(poly)):\n",
    "            points.append((random_point.bounds[0],random_point.bounds[1]))\n",
    "\n",
    "    return pd.DataFrame(points, columns=['lat','lon'])"
   ]
  },
  {
   "cell_type": "markdown",
   "metadata": {},
   "source": [
    "# Italy "
   ]
  },
  {
   "cell_type": "markdown",
   "metadata": {},
   "source": [
    "http://enipedia.tudelft.nl/maps/PowerPlants.html?enipedia_country=Italy"
   ]
  },
  {
   "cell_type": "code",
   "execution_count": 4,
   "metadata": {
    "collapsed": true
   },
   "outputs": [],
   "source": [
    "power_italy = 19000\n",
    "\n",
    "# With 10 MW assumed for each power plant\n",
    "power_one_plant = 10\n",
    "pts_sicilia = 20/100 * power_italy / power_one_plant\n",
    "pts_sardegna = 5/100 * power_italy / power_one_plant\n",
    "pts_SE = 20/100 * power_italy / power_one_plant\n",
    "pts_center = 25/100 * power_italy / power_one_plant\n",
    "pts_NE = 20/100 * power_italy / power_one_plant\n",
    "pts_NW = 10/100 * power_italy / power_one_plant"
   ]
  },
  {
   "cell_type": "code",
   "execution_count": 46,
   "metadata": {
    "collapsed": true
   },
   "outputs": [],
   "source": [
    "poly_sicil = Polygon([(38.281115, 15.526337), (37.958435, 13.751220), (38.193974, 13.273821), (37.854982, 12.436692),\n",
    "                      (36.680482, 15.099367), (37.498423, 15.052300)])\n",
    "\n",
    "poly_sard = Polygon([(38.899651, 8.840835),(39.256699, 8.436300),(40.733715, 8.326437),(41.239594, 9.221823),\n",
    "                     (40.483500, 9.760153),(39.194960, 9.523947),(39.212347, 9.057228)])\n",
    "\n",
    "poly_SE = Polygon([(38.899455, 16.249687), (39.019608, 17.101273),(39.759250, 16.463707),(40.530219, 17.041965),\n",
    "                  (39.792890, 18.346038),(40.132902, 18.500021),(40.638356, 17.990412),(41.579204, 15.862729),\n",
    "                  (41.809162, 16.192691),(41.945652, 16.038708),(40.967502, 14.003942),(39.839644, 15.811401)])\n",
    "\n",
    "poly_center = Polygon([(41.007486, 13.961209),(42.761750, 10.945462),(43.734009, 13.164700),(42.458538, 14.164456),\n",
    "                      (41.888595, 15.224636)])\n",
    "\n",
    "poly_NE = Polygon([(42.850498, 10.824855),(45.915319, 11.181223),(46.274354, 13.117713),(45.756040, 13.487529),\n",
    "                  (45.327490, 12.189812),(44.205686, 12.357910)])\n",
    "\n",
    "poly_NW = Polygon([(43.668238, 10.313836),(45.487990, 10.845026),(45.773073, 9.147187),(44.858092, 7.277992),\n",
    "                  (44.693147, 8.852866)])"
   ]
  },
  {
   "cell_type": "markdown",
   "metadata": {},
   "source": [
    "## GB"
   ]
  },
  {
   "cell_type": "markdown",
   "metadata": {},
   "source": [
    "http://ukdataexplorer.com/renewables/"
   ]
  },
  {
   "cell_type": "code",
   "execution_count": 14,
   "metadata": {
    "collapsed": true
   },
   "outputs": [],
   "source": [
    "power_GB = 11250\n",
    "\n",
    "# With 10 MW assumed for each power plant\n",
    "power_one_plant = 10\n",
    "pts_SW = 40/100 * power_GB / power_one_plant\n",
    "pts_SE = 30/100 * power_GB / power_one_plant\n",
    "pts_W = 20/100 * power_GB / power_one_plant\n",
    "pts_E = 10/100 * power_GB / power_one_plant"
   ]
  },
  {
   "cell_type": "code",
   "execution_count": 19,
   "metadata": {
    "collapsed": true
   },
   "outputs": [],
   "source": [
    "poly_SW = Polygon([(50.120688, -5.643728),(51.196011, -4.194206),(51.207259, -3.018433),(51.571312, -2.632493),\n",
    "                  (51.546202, -1.739444),(50.814793, -1.335552),(50.655738, -1.972803),(50.687023, -3.399886),\n",
    "                  (50.227033, -3.664660),(50.353189, -4.467955)])\n",
    "\n",
    "poly_SE = Polygon([(50.845972, -1.290676),(50.752371, 0.230649),(51.165066, 1.388471),(51.378444, 1.357057),\n",
    "                  (51.356030, 0.769171),(51.501527, 0.437082),(51.599196, 0.912777),(51.932473, 1.231402),\n",
    "                  (51.866014, -1.829198)])\n",
    "\n",
    "poly_W = Polygon([(51.596409, -2.435035),(51.962900, -1.236823),(52.012646, 1.406422),(52.150539, 1.590417),\n",
    "                 (52.466077, 1.734022),(52.722326, 1.693633),(52.933823, 1.276279),(52.958186, 0.503932),\n",
    "                 (52.847493, 0.442758),(52.799203, 0.353064),(52.821908, 0.215881),(52.939121, 0.067559),\n",
    "                 (53.177359, 0.348955),(52.908995, -2.285912)])\n",
    "\n",
    "poly_E = Polygon([(51.408753, -3.192424),(52.721848, -2.110892),(53.347903, -2.528247),(52.481997, -4.054059),\n",
    "                 (52.251821, -4.206640),(51.962414, -5.117639),(51.701729, -5.005447),(51.760098, -4.381660)])"
   ]
  },
  {
   "cell_type": "markdown",
   "metadata": {},
   "source": [
    "## Spain"
   ]
  },
  {
   "cell_type": "markdown",
   "metadata": {},
   "source": [
    "http://enipedia.tudelft.nl/maps/PowerPlants.html?enipedia_country=Spain\n",
    "<br>\n",
    "https://en.wikipedia.org/wiki/Solar_power_in_Spain"
   ]
  },
  {
   "cell_type": "code",
   "execution_count": 24,
   "metadata": {
    "collapsed": true
   },
   "outputs": [],
   "source": [
    "power_ES = 7171\n",
    "\n",
    "# With 10 MW assumed for each power plant\n",
    "power_one_plant = 10\n",
    "pts_S = 25/100 * power_ES / power_one_plant\n",
    "pts_center = 45/100 * power_ES / power_one_plant\n",
    "pts_N = 30/100 * power_ES / power_one_plant"
   ]
  },
  {
   "cell_type": "code",
   "execution_count": 25,
   "metadata": {
    "collapsed": true
   },
   "outputs": [],
   "source": [
    "poly_S = Polygon([(37.207263, -7.381858),(38.228850, -6.933568),(38.730183, -5.033673),(37.985292, -0.721551),\n",
    "                 (36.772468, -2.173157),(36.712597, -4.499995),(36.049079, -5.603117),(36.197755, -6.043830),\n",
    "                 (37.108029, -6.688337)])\n",
    "\n",
    "poly_center = Polygon([(38.229870, -6.940387),(38.768983, -5.004580),(38.072155, -0.662092),(38.741783, 0.122694),\n",
    "                        (39.438871, -0.374337),(41.069183, -2.353744),(41.579957, -6.181760)])\n",
    "\n",
    "poly_N = Polygon([(41.586480, -6.181760),(41.200532, -2.135748),(39.955485, -0.025543),(41.115185, 1.142917),\n",
    "                 (42.820156, -1.551517),(42.627980, -5.876565)])"
   ]
  },
  {
   "cell_type": "markdown",
   "metadata": {},
   "source": [
    "## Belgium"
   ]
  },
  {
   "cell_type": "markdown",
   "metadata": {},
   "source": [
    "http://www.elia.be/en/grid-data/power-generation/Solar-power-generation-data/Map"
   ]
  },
  {
   "cell_type": "code",
   "execution_count": 37,
   "metadata": {
    "collapsed": true
   },
   "outputs": [],
   "source": [
    "power_BE = 3292\n",
    "\n",
    "# With 10 MW assumed for each power plant\n",
    "power_one_plant = 10\n",
    "pts_N = 70/100 * power_BE / power_one_plant\n",
    "pts_S = 30/100 * power_BE / power_one_plant"
   ]
  },
  {
   "cell_type": "code",
   "execution_count": 38,
   "metadata": {
    "collapsed": true
   },
   "outputs": [],
   "source": [
    "poly_N = Polygon([(50.764979, 3.170849),(50.773421, 5.600175),(51.148184, 5.819063),(51.426545, 4.482548),\n",
    "                 (51.195790, 3.873291),(51.336632, 3.234022),(51.096001, 2.555736),(50.728893, 2.885875),\n",
    "                 (50.801029, 3.149986)])\n",
    "\n",
    "poly_S = Polygon([(50.732693, 3.222016),(50.268808, 4.212434),(49.976323, 4.206432),(49.989832, 4.569585),\n",
    "                 (50.172793, 4.815688),(50.147798, 4.899724),(49.817792, 4.893721),(49.522552, 5.602020),\n",
    "                 (49.565395, 5.776093),(49.960880, 5.728073),(50.494638, 6.211277),(50.833264, 5.602020)])"
   ]
  },
  {
   "cell_type": "markdown",
   "metadata": {},
   "source": [
    "## Random Points Creation"
   ]
  },
  {
   "cell_type": "code",
   "execution_count": 45,
   "metadata": {
    "collapsed": true
   },
   "outputs": [],
   "source": [
    "poly = poly_S\n",
    "pts = pts_S\n",
    "name = 'BE_S'"
   ]
  },
  {
   "cell_type": "code",
   "execution_count": 46,
   "metadata": {},
   "outputs": [
    {
     "data": {
      "text/html": [
       "<div>\n",
       "<style>\n",
       "    .dataframe thead tr:only-child th {\n",
       "        text-align: right;\n",
       "    }\n",
       "\n",
       "    .dataframe thead th {\n",
       "        text-align: left;\n",
       "    }\n",
       "\n",
       "    .dataframe tbody tr th {\n",
       "        vertical-align: top;\n",
       "    }\n",
       "</style>\n",
       "<table border=\"1\" class=\"dataframe\">\n",
       "  <thead>\n",
       "    <tr style=\"text-align: right;\">\n",
       "      <th></th>\n",
       "      <th>lat</th>\n",
       "      <th>lon</th>\n",
       "    </tr>\n",
       "  </thead>\n",
       "  <tbody>\n",
       "    <tr>\n",
       "      <th>0</th>\n",
       "      <td>49.980210</td>\n",
       "      <td>5.700600</td>\n",
       "    </tr>\n",
       "    <tr>\n",
       "      <th>1</th>\n",
       "      <td>50.171929</td>\n",
       "      <td>5.577944</td>\n",
       "    </tr>\n",
       "    <tr>\n",
       "      <th>2</th>\n",
       "      <td>50.572436</td>\n",
       "      <td>4.772001</td>\n",
       "    </tr>\n",
       "    <tr>\n",
       "      <th>3</th>\n",
       "      <td>50.437510</td>\n",
       "      <td>4.001356</td>\n",
       "    </tr>\n",
       "    <tr>\n",
       "      <th>4</th>\n",
       "      <td>50.425158</td>\n",
       "      <td>5.950636</td>\n",
       "    </tr>\n",
       "  </tbody>\n",
       "</table>\n",
       "</div>"
      ],
      "text/plain": [
       "         lat       lon\n",
       "0  49.980210  5.700600\n",
       "1  50.171929  5.577944\n",
       "2  50.572436  4.772001\n",
       "3  50.437510  4.001356\n",
       "4  50.425158  5.950636"
      ]
     },
     "execution_count": 46,
     "metadata": {},
     "output_type": "execute_result"
    }
   ],
   "source": [
    "zou = random_points_within(poly, pts)\n",
    "zou.head()"
   ]
  },
  {
   "cell_type": "code",
   "execution_count": 47,
   "metadata": {
    "collapsed": true
   },
   "outputs": [],
   "source": [
    "zou.to_csv('installed_capacity/Solar/randm_gen/'+name+'.csv')"
   ]
  },
  {
   "cell_type": "code",
   "execution_count": 30,
   "metadata": {},
   "outputs": [
    {
     "data": {
      "text/plain": [
       "<matplotlib.text.Text at 0x28f5f3acf60>"
      ]
     },
     "execution_count": 30,
     "metadata": {},
     "output_type": "execute_result"
    },
    {
     "data": {
      "image/png": "[encoded data removed]",
      "text/plain": [
       "<matplotlib.figure.Figure at 0x28f5f384dd8>"
      ]
     },
     "metadata": {},
     "output_type": "display_data"
    }
   ],
   "source": [
    "fig, ax = plt.subplots()\n",
    "x,y = poly_sard.exterior.xy\n",
    "ax.plot(y, x, color='#6699cc', alpha=0.7,\n",
    "    linewidth=3, solid_capstyle='round', zorder=2)\n",
    "ax.set_title('Polygon')"
   ]
  },
  {
   "cell_type": "markdown",
   "metadata": {},
   "source": [
    "## (Correction) Add column \"power\" to csv"
   ]
  },
  {
   "cell_type": "code",
   "execution_count": 3,
   "metadata": {
    "collapsed": true
   },
   "outputs": [],
   "source": [
    "import os\n",
    "import pandas as pd"
   ]
  },
  {
   "cell_type": "code",
   "execution_count": 55,
   "metadata": {},
   "outputs": [
    {
     "data": {
      "text/plain": [
       "['BE_N.csv',\n",
       " 'BE_S.csv',\n",
       " 'ES_center.csv',\n",
       " 'ES_N.csv',\n",
       " 'ES_S.csv',\n",
       " 'IT_center.csv',\n",
       " 'IT_NE.csv',\n",
       " 'IT_NW.csv',\n",
       " 'IT_sardegna.csv',\n",
       " 'IT_SE.csv',\n",
       " 'IT_sicilia.csv',\n",
       " 'UK_E.csv',\n",
       " 'UK_SE.csv',\n",
       " 'UK_SW.csv',\n",
       " 'UK_W.csv']"
      ]
     },
     "execution_count": 55,
     "metadata": {},
     "output_type": "execute_result"
    }
   ],
   "source": [
    "path = 'installed_capacity/Solar/randm_gen/'\n",
    "files = os.listdir(path)\n",
    "files"
   ]
  },
  {
   "cell_type": "code",
   "execution_count": 60,
   "metadata": {
    "collapsed": true
   },
   "outputs": [],
   "source": [
    "for name in files:\n",
    "    df = pd.read_csv(path+name, index_col=0)\n",
    "    df['electrical_capacity'] = 10.\n",
    "    df.to_csv(path+name)"
   ]
  },
  {
   "cell_type": "code",
   "execution_count": 8,
   "metadata": {},
   "outputs": [
    {
     "data": {
      "text/plain": [
       "['CH_solar_filtered_1.csv',\n",
       " 'DE_solar_filtered_1.csv',\n",
       " 'DK_solar_filtered_1.csv',\n",
       " 'FR_solar_filtered_1.csv',\n",
       " 'PL_solar_filtered_1.csv',\n",
       " 'randm_gen']"
      ]
     },
     "execution_count": 8,
     "metadata": {},
     "output_type": "execute_result"
    }
   ],
   "source": [
    "path = 'installed_capacity/Solar/'\n",
    "files = os.listdir(path)\n",
    "files"
   ]
  },
  {
   "cell_type": "code",
   "execution_count": 9,
   "metadata": {},
   "outputs": [
    {
     "name": "stderr",
     "output_type": "stream",
     "text": [
      "C:\\Anaconda\\lib\\site-packages\\IPython\\core\\interactiveshell.py:2717: DtypeWarning: Columns (10,14,16,18,19,20) have mixed types. Specify dtype option on import or set low_memory=False.\n",
      "  interactivity=interactivity, compiler=compiler, result=result)\n",
      "C:\\Anaconda\\lib\\site-packages\\numpy\\lib\\arraysetops.py:395: FutureWarning: elementwise comparison failed; returning scalar instead, but in the future will perform elementwise comparison\n",
      "  mask |= (ar1 == a)\n"
     ]
    }
   ],
   "source": [
    "for name in files[:-1]:\n",
    "    df = pd.read_csv(path+name, index_col=0, encoding='ISO-8859-1')\n",
    "    df.to_csv(path+name, encoding='utf-8')"
   ]
  },
  {
   "cell_type": "code",
   "execution_count": null,
   "metadata": {
    "collapsed": true
   },
   "outputs": [],
   "source": []
  }
 ],
 "metadata": {
  "kernelspec": {
   "display_name": "Python 3",
   "language": "python",
   "name": "python3"
  },
  "language_info": {
   "codemirror_mode": {
    "name": "ipython",
    "version": 3
   },
   "file_extension": ".py",
   "mimetype": "text/x-python",
   "name": "python",
   "nbconvert_exporter": "python",
   "pygments_lexer": "ipython3",
   "version": "3.6.1"
  }
 },
 "nbformat": 4,
 "nbformat_minor": 2
}
